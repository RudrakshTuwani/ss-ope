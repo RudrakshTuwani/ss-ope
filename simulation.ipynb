{
 "cells": [
  {
   "cell_type": "code",
   "execution_count": 1,
   "metadata": {},
   "outputs": [],
   "source": [
    "%load_ext autoreload\n",
    "%autoreload 2"
   ]
  },
  {
   "cell_type": "code",
   "execution_count": 1,
   "metadata": {},
   "outputs": [],
   "source": [
    "import patsy\n",
    "import pandas as pd\n",
    "import numpy as np\n",
    "\n",
    "from src.policy import Policy, ActionValuePolicy\n",
    "from src.reward import Reward\n",
    "from src.transition import Transition\n",
    "from src.initial_state import InitialState\n",
    "from src.mdp import MDP\n",
    "from src.ps_models import construct_PS_model\n",
    "from src.q_models import construct_Q_model\n",
    "from src.estimators import VSUP_DR. VSSL_DR\n",
    "from src.imputation_models import ImputationLasso\n",
    "\n",
    "from tqdm import tqdm\n",
    "import seaborn as sns"
   ]
  },
  {
   "cell_type": "markdown",
   "metadata": {},
   "source": [
    "# Config"
   ]
  },
  {
   "cell_type": "code",
   "execution_count": 2,
   "metadata": {},
   "outputs": [],
   "source": [
    "class Config():\n",
    "\n",
    "    # Basics\n",
    "    num_state_features = 5\n",
    "    num_actions = 3\n",
    "    num_timesteps = 2\n",
    "\n",
    "    # Initial state distribution\n",
    "    P0_mean = np.zeros(num_state_features)\n",
    "    P0_cov = np.eye(num_state_features)\n",
    "\n",
    "    # Transition function cov\n",
    "    P_cov = np.eye(num_state_features)\n",
    "\n",
    "    # Models\n",
    "    ps_model_name = 'LinearPS'\n",
    "    q_model_name = 'LSTDQ'\n",
    "\n",
    "    # Simulation related params\n",
    "    start_seed = 2021\n",
    "    n_simulations = 10\n",
    "    mc_samples = 10000\n",
    "\n",
    "    # VSUP SSL\n",
    "    labeled_data_prop = 0.3\n",
    "    cv_splits = 5\n",
    "\n",
    "config = Config()"
   ]
  },
  {
   "cell_type": "markdown",
   "metadata": {},
   "source": [
    "# MDP"
   ]
  },
  {
   "cell_type": "code",
   "execution_count": 3,
   "metadata": {},
   "outputs": [],
   "source": [
    "def init_weights(formula):\n",
    "    X = patsy.dmatrix(formula, data=balanced_data, return_type='dataframe')\n",
    "    weights = pd.Series(np.random.uniform(-2, 2, X.shape[1]))\n",
    "    weights.index = X.columns\n",
    "    \n",
    "    return weights"
   ]
  },
  {
   "cell_type": "code",
   "execution_count": 4,
   "metadata": {},
   "outputs": [],
   "source": [
    "np.random.seed(config.start_seed)\n",
    "\n",
    "# Define the MDP\n",
    "# Initial State Distribution\n",
    "P0 = InitialState(\n",
    "    num_state_features=config.num_state_features,\n",
    "    mean=config.P0_mean, \n",
    "    cov = config.P0_cov)\n",
    "\n",
    "balanced_data = pd.concat([\n",
    "    P0(config.num_actions),\n",
    "    pd.DataFrame([str(a) for a in range(config.num_actions)], columns=['A'])], axis=1)\n",
    "levels = list(balanced_data['A'].unique())\n",
    "\n",
    "# Reward function\n",
    "reward_formula = f\"(0 + C(A, Treatment(reference='0'), levels={levels})) + (0 + C(A, Treatment(reference='0'), levels={levels})):({'+'.join(P0(1).columns)})\"\n",
    "reward_weights = init_weights(reward_formula)\n",
    "R = Reward(\n",
    "    formula=reward_formula,\n",
    "    weights=reward_weights,\n",
    ")\n",
    "\n",
    "# Transition function\n",
    "transition_formula = f\"(0 + C(A, Treatment(reference='0'), levels={levels}))\"\n",
    "transition_weights = pd.concat([init_weights(transition_formula)]*config.num_state_features, axis=1)\n",
    "transition_weights.columns = [f'S{s}' for s in range(config.num_state_features)]\n",
    "P = Transition(formula=transition_formula, weights=transition_weights, cov=config.P_cov)\n",
    "\n",
    "# Policy\n",
    "policy_formula = '+'.join(P0(1).columns)\n",
    "policy_weights = pd.concat([init_weights(policy_formula) for a in range(0, config.num_actions)], axis=1)\n",
    "policy_weights.columns = [f'A{a}' for a in range(config.num_actions)]\n",
    "policy_weights['A0'] = 0\n",
    "Pi_b = Policy(formula=policy_formula, weights=policy_weights, deterministic=False)\n",
    "\n",
    "# MDP\n",
    "M = MDP(P0=P0, R=R, P=P, policy=Pi_b, num_actions=config.num_actions, num_timesteps=config.num_timesteps, num_state_features=config.num_state_features)"
   ]
  },
  {
   "cell_type": "markdown",
   "metadata": {},
   "source": [
    "# Evaluation Policy"
   ]
  },
  {
   "cell_type": "code",
   "execution_count": 5,
   "metadata": {},
   "outputs": [],
   "source": [
    "eval_policy_weights = pd.concat([init_weights(policy_formula) for a in range(0,config.num_actions)], axis=1)\n",
    "eval_policy_weights.columns = [f'A{a}' for a in range(config.num_actions)]\n",
    "eval_policy_weights['A0'] = 0\n",
    "eval_policy = Policy(formula=policy_formula, weights=eval_policy_weights, deterministic=True)"
   ]
  },
  {
   "cell_type": "code",
   "execution_count": 6,
   "metadata": {},
   "outputs": [
    {
     "output_type": "stream",
     "name": "stderr",
     "text": [
      "100%|██████████| 10/10 [00:39<00:00,  3.94s/it]\n"
     ]
    }
   ],
   "source": [
    "mc_estimates = list()\n",
    "for i in tqdm(range(config.n_simulations)):\n",
    "    eval_policy_data = M.sample_trajectories_for_policy(config.mc_samples, eval_policy, \n",
    "                                                        seed=config.start_seed + 6782 + i) \n",
    "    mc_estimates.append(\n",
    "        sum(eval_policy_data[t]['R'].mean() for t in range(config.num_timesteps)))"
   ]
  },
  {
   "cell_type": "code",
   "execution_count": 6,
   "metadata": {},
   "outputs": [],
   "source": [
    "q_model_params = {\n",
    "    'formula': reward_formula,\n",
    "    'eval_policy': eval_policy\n",
    "}\n",
    "\n",
    "ps_model_params = {\n",
    "    'formula': policy_formula\n",
    "}"
   ]
  },
  {
   "cell_type": "markdown",
   "metadata": {},
   "source": [
    "# Supervised estimator"
   ]
  },
  {
   "cell_type": "code",
   "execution_count": 8,
   "metadata": {},
   "outputs": [
    {
     "output_type": "stream",
     "name": "stderr",
     "text": [
      "100%|██████████| 10/10 [00:52<00:00,  5.23s/it]\n"
     ]
    }
   ],
   "source": [
    "vsup_dr_estimates = list()\n",
    "\n",
    "for i in tqdm(range(config.n_simulations)):\n",
    "\n",
    "    # Sample trajectories\n",
    "    data = M.sample_trajectories(config.mc_samples, seed=config.start_seed+123123+i)\n",
    "\n",
    "    # Models for Q function and Propensity score\n",
    "    Q_model = construct_Q_model(model_name=config.q_model_name, model_params=q_model_params)\n",
    "    Q_model.fit(data=data)\n",
    "\n",
    "    PS_model = construct_PS_model(model_name=config.ps_model_name, model_params=ps_model_params)\n",
    "    PS_model.fit(data=data)\n",
    "    \n",
    "    # Calculate supervised estimator\n",
    "    vsup_dr_estimates.append(\n",
    "        VSUP_DR(data=data, Q_model=Q_model, PS_model=PS_model)\n",
    "    )"
   ]
  },
  {
   "cell_type": "code",
   "execution_count": 9,
   "metadata": {},
   "outputs": [
    {
     "output_type": "execute_result",
     "data": {
      "text/plain": [
       "<matplotlib.axes._subplots.AxesSubplot at 0x2666722a070>"
      ]
     },
     "metadata": {},
     "execution_count": 9
    },
    {
     "output_type": "display_data",
     "data": {
      "text/plain": "<Figure size 432x288 with 1 Axes>",
      "image/svg+xml": "<?xml version=\"1.0\" encoding=\"utf-8\" standalone=\"no\"?>\r\n<!DOCTYPE svg PUBLIC \"-//W3C//DTD SVG 1.1//EN\"\r\n  \"http://www.w3.org/Graphics/SVG/1.1/DTD/svg11.dtd\">\r\n<!-- Created with matplotlib (https://matplotlib.org/) -->\r\n<svg height=\"248.518125pt\" version=\"1.1\" viewBox=\"0 0 368.925 248.518125\" width=\"368.925pt\" xmlns=\"http://www.w3.org/2000/svg\" xmlns:xlink=\"http://www.w3.org/1999/xlink\">\r\n <defs>\r\n  <style type=\"text/css\">\r\n*{stroke-linecap:butt;stroke-linejoin:round;}\r\n  </style>\r\n </defs>\r\n <g id=\"figure_1\">\r\n  <g id=\"patch_1\">\r\n   <path d=\"M -0 248.518125 \r\nL 368.925 248.518125 \r\nL 368.925 0 \r\nL -0 0 \r\nz\r\n\" style=\"fill:none;\"/>\r\n  </g>\r\n  <g id=\"axes_1\">\r\n   <g id=\"patch_2\">\r\n    <path d=\"M 26.925 224.64 \r\nL 361.725 224.64 \r\nL 361.725 7.2 \r\nL 26.925 7.2 \r\nz\r\n\" style=\"fill:#ffffff;\"/>\r\n   </g>\r\n   <g id=\"patch_3\">\r\n    <path clip-path=\"url(#p516c899edc)\" d=\"M 100.56151 224.64 \r\nL 131.816007 224.64 \r\nL 131.816007 183.476566 \r\nL 100.56151 183.476566 \r\nz\r\n\" style=\"fill:#1f77b4;opacity:0.4;\"/>\r\n   </g>\r\n   <g id=\"patch_4\">\r\n    <path clip-path=\"url(#p516c899edc)\" d=\"M 131.816007 224.64 \r\nL 163.070503 224.64 \r\nL 163.070503 224.64 \r\nL 131.816007 224.64 \r\nz\r\n\" style=\"fill:#1f77b4;opacity:0.4;\"/>\r\n   </g>\r\n   <g id=\"patch_5\">\r\n    <path clip-path=\"url(#p516c899edc)\" d=\"M 163.070503 224.64 \r\nL 194.325 224.64 \r\nL 194.325 224.64 \r\nL 163.070503 224.64 \r\nz\r\n\" style=\"fill:#1f77b4;opacity:0.4;\"/>\r\n   </g>\r\n   <g id=\"patch_6\">\r\n    <path clip-path=\"url(#p516c899edc)\" d=\"M 194.325 224.64 \r\nL 225.579497 224.64 \r\nL 225.579497 162.894849 \r\nL 194.325 162.894849 \r\nz\r\n\" style=\"fill:#1f77b4;opacity:0.4;\"/>\r\n   </g>\r\n   <g id=\"patch_7\">\r\n    <path clip-path=\"url(#p516c899edc)\" d=\"M 225.579497 224.64 \r\nL 256.833993 224.64 \r\nL 256.833993 162.894849 \r\nL 225.579497 162.894849 \r\nz\r\n\" style=\"fill:#1f77b4;opacity:0.4;\"/>\r\n   </g>\r\n   <g id=\"patch_8\">\r\n    <path clip-path=\"url(#p516c899edc)\" d=\"M 256.833993 224.64 \r\nL 288.08849 224.64 \r\nL 288.08849 183.476566 \r\nL 256.833993 183.476566 \r\nz\r\n\" style=\"fill:#1f77b4;opacity:0.4;\"/>\r\n   </g>\r\n   <g id=\"patch_9\">\r\n    <path clip-path=\"url(#p516c899edc)\" d=\"M 253.98511 224.64 \r\nL 269.51663 224.64 \r\nL 269.51663 17.554286 \r\nL 253.98511 17.554286 \r\nz\r\n\" style=\"fill:#ff7f0e;opacity:0.4;\"/>\r\n   </g>\r\n   <g id=\"patch_10\">\r\n    <path clip-path=\"url(#p516c899edc)\" d=\"M 269.51663 224.64 \r\nL 285.04815 224.64 \r\nL 285.04815 58.971429 \r\nL 269.51663 58.971429 \r\nz\r\n\" style=\"fill:#ff7f0e;opacity:0.4;\"/>\r\n   </g>\r\n   <g id=\"patch_11\">\r\n    <path clip-path=\"url(#p516c899edc)\" d=\"M 285.04815 224.64 \r\nL 300.579671 224.64 \r\nL 300.579671 183.222857 \r\nL 285.04815 183.222857 \r\nz\r\n\" style=\"fill:#ff7f0e;opacity:0.4;\"/>\r\n   </g>\r\n   <g id=\"matplotlib.axis_1\">\r\n    <g id=\"xtick_1\">\r\n     <g id=\"line2d_1\">\r\n      <defs>\r\n       <path d=\"M 0 0 \r\nL 0 3.5 \r\n\" id=\"mced43a56c3\" style=\"stroke:#000000;stroke-width:0.8;\"/>\r\n      </defs>\r\n      <g>\r\n       <use style=\"stroke:#000000;stroke-width:0.8;\" x=\"80.008709\" xlink:href=\"#mced43a56c3\" y=\"224.64\"/>\r\n      </g>\r\n     </g>\r\n     <g id=\"text_1\">\r\n      <!-- −1.6 -->\r\n      <defs>\r\n       <path d=\"M 10.59375 35.5 \r\nL 73.1875 35.5 \r\nL 73.1875 27.203125 \r\nL 10.59375 27.203125 \r\nz\r\n\" id=\"DejaVuSans-8722\"/>\r\n       <path d=\"M 12.40625 8.296875 \r\nL 28.515625 8.296875 \r\nL 28.515625 63.921875 \r\nL 10.984375 60.40625 \r\nL 10.984375 69.390625 \r\nL 28.421875 72.90625 \r\nL 38.28125 72.90625 \r\nL 38.28125 8.296875 \r\nL 54.390625 8.296875 \r\nL 54.390625 0 \r\nL 12.40625 0 \r\nz\r\n\" id=\"DejaVuSans-49\"/>\r\n       <path d=\"M 10.6875 12.40625 \r\nL 21 12.40625 \r\nL 21 0 \r\nL 10.6875 0 \r\nz\r\n\" id=\"DejaVuSans-46\"/>\r\n       <path d=\"M 33.015625 40.375 \r\nQ 26.375 40.375 22.484375 35.828125 \r\nQ 18.609375 31.296875 18.609375 23.390625 \r\nQ 18.609375 15.53125 22.484375 10.953125 \r\nQ 26.375 6.390625 33.015625 6.390625 \r\nQ 39.65625 6.390625 43.53125 10.953125 \r\nQ 47.40625 15.53125 47.40625 23.390625 \r\nQ 47.40625 31.296875 43.53125 35.828125 \r\nQ 39.65625 40.375 33.015625 40.375 \r\nz\r\nM 52.59375 71.296875 \r\nL 52.59375 62.3125 \r\nQ 48.875 64.0625 45.09375 64.984375 \r\nQ 41.3125 65.921875 37.59375 65.921875 \r\nQ 27.828125 65.921875 22.671875 59.328125 \r\nQ 17.53125 52.734375 16.796875 39.40625 \r\nQ 19.671875 43.65625 24.015625 45.921875 \r\nQ 28.375 48.1875 33.59375 48.1875 \r\nQ 44.578125 48.1875 50.953125 41.515625 \r\nQ 57.328125 34.859375 57.328125 23.390625 \r\nQ 57.328125 12.15625 50.6875 5.359375 \r\nQ 44.046875 -1.421875 33.015625 -1.421875 \r\nQ 20.359375 -1.421875 13.671875 8.265625 \r\nQ 6.984375 17.96875 6.984375 36.375 \r\nQ 6.984375 53.65625 15.1875 63.9375 \r\nQ 23.390625 74.21875 37.203125 74.21875 \r\nQ 40.921875 74.21875 44.703125 73.484375 \r\nQ 48.484375 72.75 52.59375 71.296875 \r\nz\r\n\" id=\"DejaVuSans-54\"/>\r\n      </defs>\r\n      <g transform=\"translate(67.867302 239.238437)scale(0.1 -0.1)\">\r\n       <use xlink:href=\"#DejaVuSans-8722\"/>\r\n       <use x=\"83.789062\" xlink:href=\"#DejaVuSans-49\"/>\r\n       <use x=\"147.412109\" xlink:href=\"#DejaVuSans-46\"/>\r\n       <use x=\"179.199219\" xlink:href=\"#DejaVuSans-54\"/>\r\n      </g>\r\n     </g>\r\n    </g>\r\n    <g id=\"xtick_2\">\r\n     <g id=\"line2d_2\">\r\n      <g>\r\n       <use style=\"stroke:#000000;stroke-width:0.8;\" x=\"144.857496\" xlink:href=\"#mced43a56c3\" y=\"224.64\"/>\r\n      </g>\r\n     </g>\r\n     <g id=\"text_2\">\r\n      <!-- −1.4 -->\r\n      <defs>\r\n       <path d=\"M 37.796875 64.3125 \r\nL 12.890625 25.390625 \r\nL 37.796875 25.390625 \r\nz\r\nM 35.203125 72.90625 \r\nL 47.609375 72.90625 \r\nL 47.609375 25.390625 \r\nL 58.015625 25.390625 \r\nL 58.015625 17.1875 \r\nL 47.609375 17.1875 \r\nL 47.609375 0 \r\nL 37.796875 0 \r\nL 37.796875 17.1875 \r\nL 4.890625 17.1875 \r\nL 4.890625 26.703125 \r\nz\r\n\" id=\"DejaVuSans-52\"/>\r\n      </defs>\r\n      <g transform=\"translate(132.71609 239.238437)scale(0.1 -0.1)\">\r\n       <use xlink:href=\"#DejaVuSans-8722\"/>\r\n       <use x=\"83.789062\" xlink:href=\"#DejaVuSans-49\"/>\r\n       <use x=\"147.412109\" xlink:href=\"#DejaVuSans-46\"/>\r\n       <use x=\"179.199219\" xlink:href=\"#DejaVuSans-52\"/>\r\n      </g>\r\n     </g>\r\n    </g>\r\n    <g id=\"xtick_3\">\r\n     <g id=\"line2d_3\">\r\n      <g>\r\n       <use style=\"stroke:#000000;stroke-width:0.8;\" x=\"209.706284\" xlink:href=\"#mced43a56c3\" y=\"224.64\"/>\r\n      </g>\r\n     </g>\r\n     <g id=\"text_3\">\r\n      <!-- −1.2 -->\r\n      <defs>\r\n       <path d=\"M 19.1875 8.296875 \r\nL 53.609375 8.296875 \r\nL 53.609375 0 \r\nL 7.328125 0 \r\nL 7.328125 8.296875 \r\nQ 12.9375 14.109375 22.625 23.890625 \r\nQ 32.328125 33.6875 34.8125 36.53125 \r\nQ 39.546875 41.84375 41.421875 45.53125 \r\nQ 43.3125 49.21875 43.3125 52.78125 \r\nQ 43.3125 58.59375 39.234375 62.25 \r\nQ 35.15625 65.921875 28.609375 65.921875 \r\nQ 23.96875 65.921875 18.8125 64.3125 \r\nQ 13.671875 62.703125 7.8125 59.421875 \r\nL 7.8125 69.390625 \r\nQ 13.765625 71.78125 18.9375 73 \r\nQ 24.125 74.21875 28.421875 74.21875 \r\nQ 39.75 74.21875 46.484375 68.546875 \r\nQ 53.21875 62.890625 53.21875 53.421875 \r\nQ 53.21875 48.921875 51.53125 44.890625 \r\nQ 49.859375 40.875 45.40625 35.40625 \r\nQ 44.1875 33.984375 37.640625 27.21875 \r\nQ 31.109375 20.453125 19.1875 8.296875 \r\nz\r\n\" id=\"DejaVuSans-50\"/>\r\n      </defs>\r\n      <g transform=\"translate(197.564878 239.238437)scale(0.1 -0.1)\">\r\n       <use xlink:href=\"#DejaVuSans-8722\"/>\r\n       <use x=\"83.789062\" xlink:href=\"#DejaVuSans-49\"/>\r\n       <use x=\"147.412109\" xlink:href=\"#DejaVuSans-46\"/>\r\n       <use x=\"179.199219\" xlink:href=\"#DejaVuSans-50\"/>\r\n      </g>\r\n     </g>\r\n    </g>\r\n    <g id=\"xtick_4\">\r\n     <g id=\"line2d_4\">\r\n      <g>\r\n       <use style=\"stroke:#000000;stroke-width:0.8;\" x=\"274.555072\" xlink:href=\"#mced43a56c3\" y=\"224.64\"/>\r\n      </g>\r\n     </g>\r\n     <g id=\"text_4\">\r\n      <!-- −1.0 -->\r\n      <defs>\r\n       <path d=\"M 31.78125 66.40625 \r\nQ 24.171875 66.40625 20.328125 58.90625 \r\nQ 16.5 51.421875 16.5 36.375 \r\nQ 16.5 21.390625 20.328125 13.890625 \r\nQ 24.171875 6.390625 31.78125 6.390625 \r\nQ 39.453125 6.390625 43.28125 13.890625 \r\nQ 47.125 21.390625 47.125 36.375 \r\nQ 47.125 51.421875 43.28125 58.90625 \r\nQ 39.453125 66.40625 31.78125 66.40625 \r\nz\r\nM 31.78125 74.21875 \r\nQ 44.046875 74.21875 50.515625 64.515625 \r\nQ 56.984375 54.828125 56.984375 36.375 \r\nQ 56.984375 17.96875 50.515625 8.265625 \r\nQ 44.046875 -1.421875 31.78125 -1.421875 \r\nQ 19.53125 -1.421875 13.0625 8.265625 \r\nQ 6.59375 17.96875 6.59375 36.375 \r\nQ 6.59375 54.828125 13.0625 64.515625 \r\nQ 19.53125 74.21875 31.78125 74.21875 \r\nz\r\n\" id=\"DejaVuSans-48\"/>\r\n      </defs>\r\n      <g transform=\"translate(262.413666 239.238437)scale(0.1 -0.1)\">\r\n       <use xlink:href=\"#DejaVuSans-8722\"/>\r\n       <use x=\"83.789062\" xlink:href=\"#DejaVuSans-49\"/>\r\n       <use x=\"147.412109\" xlink:href=\"#DejaVuSans-46\"/>\r\n       <use x=\"179.199219\" xlink:href=\"#DejaVuSans-48\"/>\r\n      </g>\r\n     </g>\r\n    </g>\r\n    <g id=\"xtick_5\">\r\n     <g id=\"line2d_5\">\r\n      <g>\r\n       <use style=\"stroke:#000000;stroke-width:0.8;\" x=\"339.40386\" xlink:href=\"#mced43a56c3\" y=\"224.64\"/>\r\n      </g>\r\n     </g>\r\n     <g id=\"text_5\">\r\n      <!-- −0.8 -->\r\n      <defs>\r\n       <path d=\"M 31.78125 34.625 \r\nQ 24.75 34.625 20.71875 30.859375 \r\nQ 16.703125 27.09375 16.703125 20.515625 \r\nQ 16.703125 13.921875 20.71875 10.15625 \r\nQ 24.75 6.390625 31.78125 6.390625 \r\nQ 38.8125 6.390625 42.859375 10.171875 \r\nQ 46.921875 13.96875 46.921875 20.515625 \r\nQ 46.921875 27.09375 42.890625 30.859375 \r\nQ 38.875 34.625 31.78125 34.625 \r\nz\r\nM 21.921875 38.8125 \r\nQ 15.578125 40.375 12.03125 44.71875 \r\nQ 8.5 49.078125 8.5 55.328125 \r\nQ 8.5 64.0625 14.71875 69.140625 \r\nQ 20.953125 74.21875 31.78125 74.21875 \r\nQ 42.671875 74.21875 48.875 69.140625 \r\nQ 55.078125 64.0625 55.078125 55.328125 \r\nQ 55.078125 49.078125 51.53125 44.71875 \r\nQ 48 40.375 41.703125 38.8125 \r\nQ 48.828125 37.15625 52.796875 32.3125 \r\nQ 56.78125 27.484375 56.78125 20.515625 \r\nQ 56.78125 9.90625 50.3125 4.234375 \r\nQ 43.84375 -1.421875 31.78125 -1.421875 \r\nQ 19.734375 -1.421875 13.25 4.234375 \r\nQ 6.78125 9.90625 6.78125 20.515625 \r\nQ 6.78125 27.484375 10.78125 32.3125 \r\nQ 14.796875 37.15625 21.921875 38.8125 \r\nz\r\nM 18.3125 54.390625 \r\nQ 18.3125 48.734375 21.84375 45.5625 \r\nQ 25.390625 42.390625 31.78125 42.390625 \r\nQ 38.140625 42.390625 41.71875 45.5625 \r\nQ 45.3125 48.734375 45.3125 54.390625 \r\nQ 45.3125 60.0625 41.71875 63.234375 \r\nQ 38.140625 66.40625 31.78125 66.40625 \r\nQ 25.390625 66.40625 21.84375 63.234375 \r\nQ 18.3125 60.0625 18.3125 54.390625 \r\nz\r\n\" id=\"DejaVuSans-56\"/>\r\n      </defs>\r\n      <g transform=\"translate(327.262453 239.238437)scale(0.1 -0.1)\">\r\n       <use xlink:href=\"#DejaVuSans-8722\"/>\r\n       <use x=\"83.789062\" xlink:href=\"#DejaVuSans-48\"/>\r\n       <use x=\"147.412109\" xlink:href=\"#DejaVuSans-46\"/>\r\n       <use x=\"179.199219\" xlink:href=\"#DejaVuSans-56\"/>\r\n      </g>\r\n     </g>\r\n    </g>\r\n   </g>\r\n   <g id=\"matplotlib.axis_2\">\r\n    <g id=\"ytick_1\">\r\n     <g id=\"line2d_6\">\r\n      <defs>\r\n       <path d=\"M 0 0 \r\nL -3.5 0 \r\n\" id=\"m4ff6340825\" style=\"stroke:#000000;stroke-width:0.8;\"/>\r\n      </defs>\r\n      <g>\r\n       <use style=\"stroke:#000000;stroke-width:0.8;\" x=\"26.925\" xlink:href=\"#m4ff6340825\" y=\"224.64\"/>\r\n      </g>\r\n     </g>\r\n     <g id=\"text_6\">\r\n      <!-- 0 -->\r\n      <g transform=\"translate(13.5625 228.439219)scale(0.1 -0.1)\">\r\n       <use xlink:href=\"#DejaVuSans-48\"/>\r\n      </g>\r\n     </g>\r\n    </g>\r\n    <g id=\"ytick_2\">\r\n     <g id=\"line2d_7\">\r\n      <g>\r\n       <use style=\"stroke:#000000;stroke-width:0.8;\" x=\"26.925\" xlink:href=\"#m4ff6340825\" y=\"184.961775\"/>\r\n      </g>\r\n     </g>\r\n     <g id=\"text_7\">\r\n      <!-- 2 -->\r\n      <g transform=\"translate(13.5625 188.760994)scale(0.1 -0.1)\">\r\n       <use xlink:href=\"#DejaVuSans-50\"/>\r\n      </g>\r\n     </g>\r\n    </g>\r\n    <g id=\"ytick_3\">\r\n     <g id=\"line2d_8\">\r\n      <g>\r\n       <use style=\"stroke:#000000;stroke-width:0.8;\" x=\"26.925\" xlink:href=\"#m4ff6340825\" y=\"145.28355\"/>\r\n      </g>\r\n     </g>\r\n     <g id=\"text_8\">\r\n      <!-- 4 -->\r\n      <g transform=\"translate(13.5625 149.082769)scale(0.1 -0.1)\">\r\n       <use xlink:href=\"#DejaVuSans-52\"/>\r\n      </g>\r\n     </g>\r\n    </g>\r\n    <g id=\"ytick_4\">\r\n     <g id=\"line2d_9\">\r\n      <g>\r\n       <use style=\"stroke:#000000;stroke-width:0.8;\" x=\"26.925\" xlink:href=\"#m4ff6340825\" y=\"105.605325\"/>\r\n      </g>\r\n     </g>\r\n     <g id=\"text_9\">\r\n      <!-- 6 -->\r\n      <g transform=\"translate(13.5625 109.404543)scale(0.1 -0.1)\">\r\n       <use xlink:href=\"#DejaVuSans-54\"/>\r\n      </g>\r\n     </g>\r\n    </g>\r\n    <g id=\"ytick_5\">\r\n     <g id=\"line2d_10\">\r\n      <g>\r\n       <use style=\"stroke:#000000;stroke-width:0.8;\" x=\"26.925\" xlink:href=\"#m4ff6340825\" y=\"65.9271\"/>\r\n      </g>\r\n     </g>\r\n     <g id=\"text_10\">\r\n      <!-- 8 -->\r\n      <g transform=\"translate(13.5625 69.726318)scale(0.1 -0.1)\">\r\n       <use xlink:href=\"#DejaVuSans-56\"/>\r\n      </g>\r\n     </g>\r\n    </g>\r\n    <g id=\"ytick_6\">\r\n     <g id=\"line2d_11\">\r\n      <g>\r\n       <use style=\"stroke:#000000;stroke-width:0.8;\" x=\"26.925\" xlink:href=\"#m4ff6340825\" y=\"26.248875\"/>\r\n      </g>\r\n     </g>\r\n     <g id=\"text_11\">\r\n      <!-- 10 -->\r\n      <g transform=\"translate(7.2 30.048093)scale(0.1 -0.1)\">\r\n       <use xlink:href=\"#DejaVuSans-49\"/>\r\n       <use x=\"63.623047\" xlink:href=\"#DejaVuSans-48\"/>\r\n      </g>\r\n     </g>\r\n    </g>\r\n   </g>\r\n   <g id=\"line2d_12\">\r\n    <path clip-path=\"url(#p516c899edc)\" d=\"M 42.143182 224.371148 \r\nL 49.332874 224.157459 \r\nL 54.126002 223.792418 \r\nL 58.91913 223.173988 \r\nL 63.712258 222.219087 \r\nL 68.505387 220.848136 \r\nL 70.901951 219.988845 \r\nL 75.695079 217.914597 \r\nL 80.488207 215.407488 \r\nL 85.281335 212.58925 \r\nL 92.471027 208.232784 \r\nL 97.264155 205.625949 \r\nL 99.660719 204.514382 \r\nL 102.057283 203.572135 \r\nL 104.453848 202.825454 \r\nL 106.850412 202.295451 \r\nL 109.246976 201.997281 \r\nL 111.64354 201.939556 \r\nL 114.040104 202.124017 \r\nL 116.436668 202.545454 \r\nL 118.833232 203.191891 \r\nL 121.229796 204.045025 \r\nL 123.62636 205.080918 \r\nL 128.419488 207.582783 \r\nL 135.60918 211.90062 \r\nL 140.402309 214.7555 \r\nL 145.195437 217.318437 \r\nL 147.592001 218.436707 \r\nL 149.988565 219.42613 \r\nL 152.385129 220.276425 \r\nL 154.781693 220.980193 \r\nL 157.178257 221.531904 \r\nL 159.574821 221.926778 \r\nL 161.971385 222.159688 \r\nL 164.367949 222.224189 \r\nL 166.764513 222.111798 \r\nL 169.161077 221.811619 \r\nL 171.557641 221.310388 \r\nL 173.954205 220.592986 \r\nL 176.35077 219.643425 \r\nL 178.747334 218.44628 \r\nL 181.143898 216.988471 \r\nL 183.540462 215.261252 \r\nL 185.937026 213.262254 \r\nL 188.33359 210.99732 \r\nL 190.730154 208.481945 \r\nL 193.126718 205.742064 \r\nL 197.919846 199.743516 \r\nL 207.506102 187.148944 \r\nL 212.29923 181.428844 \r\nL 214.695795 178.856306 \r\nL 217.092359 176.499097 \r\nL 219.488923 174.358719 \r\nL 221.885487 172.425607 \r\nL 224.282051 170.682289 \r\nL 226.678615 169.107526 \r\nL 229.075179 167.68091 \r\nL 231.471743 166.387328 \r\nL 233.868307 165.220704 \r\nL 236.264871 164.186481 \r\nL 238.661435 163.302485 \r\nL 241.057999 162.597996 \r\nL 243.454563 162.111126 \r\nL 245.851127 161.884782 \r\nL 248.247691 161.961755 \r\nL 250.644256 162.379518 \r\nL 253.04082 163.16543 \r\nL 255.437384 164.332911 \r\nL 257.833948 165.879087 \r\nL 260.230512 167.784138 \r\nL 262.627076 170.012404 \r\nL 265.02364 172.515046 \r\nL 269.816768 178.105947 \r\nL 281.799588 192.756753 \r\nL 286.592717 198.027366 \r\nL 291.385845 202.775372 \r\nL 296.178973 207.012727 \r\nL 300.972101 210.769242 \r\nL 305.765229 214.055014 \r\nL 310.558357 216.856648 \r\nL 312.954921 218.069813 \r\nL 315.351485 219.156251 \r\nL 317.748049 220.11688 \r\nL 322.541178 221.675074 \r\nL 327.334306 222.793486 \r\nL 332.127434 223.545792 \r\nL 336.920562 224.014098 \r\nL 341.71369 224.272077 \r\nL 346.506818 224.371997 \r\nL 346.506818 224.371997 \r\n\" style=\"fill:none;stroke:#1f77b4;stroke-linecap:square;stroke-width:1.5;\"/>\r\n   </g>\r\n   <g id=\"line2d_13\">\r\n    <path clip-path=\"url(#p516c899edc)\" d=\"M 228.354417 223.903019 \r\nL 229.895456 223.683102 \r\nL 231.436494 223.211263 \r\nL 232.977533 222.408808 \r\nL 234.518571 221.160846 \r\nL 235.28909 220.324037 \r\nL 236.05961 219.316737 \r\nL 236.830129 218.115227 \r\nL 237.600648 216.69437 \r\nL 238.371167 215.028048 \r\nL 239.912206 210.85307 \r\nL 241.453245 205.385327 \r\nL 242.994283 198.449748 \r\nL 244.535322 189.930851 \r\nL 246.07636 179.803289 \r\nL 247.617399 168.158507 \r\nL 249.928956 148.37793 \r\nL 256.09311 93.185668 \r\nL 257.634149 81.946901 \r\nL 259.175188 72.745068 \r\nL 259.945707 69.001256 \r\nL 260.716226 65.855471 \r\nL 261.486745 63.312611 \r\nL 262.257265 61.365813 \r\nL 263.027784 59.99724 \r\nL 263.798303 59.179278 \r\nL 264.568822 58.876108 \r\nL 265.339342 59.045568 \r\nL 266.109861 59.641201 \r\nL 266.88038 60.614419 \r\nL 267.650899 61.916636 \r\nL 269.191938 65.325643 \r\nL 270.732976 69.550137 \r\nL 272.274015 74.371334 \r\nL 274.585573 82.52037 \r\nL 276.897131 91.830137 \r\nL 279.208688 102.527554 \r\nL 281.520246 114.66437 \r\nL 285.372842 136.824158 \r\nL 287.6844 149.740986 \r\nL 289.225439 157.531295 \r\nL 290.766477 164.381883 \r\nL 292.307516 170.172733 \r\nL 293.848554 174.912798 \r\nL 295.389593 178.732884 \r\nL 296.930631 181.856927 \r\nL 299.242189 185.836741 \r\nL 302.324266 191.131242 \r\nL 304.635824 195.73128 \r\nL 307.717901 202.662609 \r\nL 310.799978 209.623103 \r\nL 312.341017 212.757281 \r\nL 313.882055 215.517082 \r\nL 315.423094 217.847058 \r\nL 316.964132 219.734342 \r\nL 318.505171 221.200849 \r\nL 320.046209 222.29164 \r\nL 321.587248 223.062241 \r\nL 323.128286 223.566951 \r\nL 324.669325 223.849132 \r\nL 326.210363 223.933643 \r\nL 326.210363 223.933643 \r\n\" style=\"fill:none;stroke:#ff7f0e;stroke-linecap:square;stroke-width:1.5;\"/>\r\n   </g>\r\n   <g id=\"patch_12\">\r\n    <path d=\"M 26.925 224.64 \r\nL 26.925 7.2 \r\n\" style=\"fill:none;stroke:#000000;stroke-linecap:square;stroke-linejoin:miter;stroke-width:0.8;\"/>\r\n   </g>\r\n   <g id=\"patch_13\">\r\n    <path d=\"M 361.725 224.64 \r\nL 361.725 7.2 \r\n\" style=\"fill:none;stroke:#000000;stroke-linecap:square;stroke-linejoin:miter;stroke-width:0.8;\"/>\r\n   </g>\r\n   <g id=\"patch_14\">\r\n    <path d=\"M 26.925 224.64 \r\nL 361.725 224.64 \r\n\" style=\"fill:none;stroke:#000000;stroke-linecap:square;stroke-linejoin:miter;stroke-width:0.8;\"/>\r\n   </g>\r\n   <g id=\"patch_15\">\r\n    <path d=\"M 26.925 7.2 \r\nL 361.725 7.2 \r\n\" style=\"fill:none;stroke:#000000;stroke-linecap:square;stroke-linejoin:miter;stroke-width:0.8;\"/>\r\n   </g>\r\n  </g>\r\n </g>\r\n <defs>\r\n  <clipPath id=\"p516c899edc\">\r\n   <rect height=\"217.44\" width=\"334.8\" x=\"26.925\" y=\"7.2\"/>\r\n  </clipPath>\r\n </defs>\r\n</svg>\r\n",
      "image/png": "[encoded data removed]"
     },
     "metadata": {
      "needs_background": "light"
     }
    }
   ],
   "source": [
    "sns.distplot(vsup_dr_estimates)\n",
    "sns.distplot(mc_estimates)"
   ]
  },
  {
   "source": [
    "# Semi supervised estimator"
   ],
   "cell_type": "markdown",
   "metadata": {}
  },
  {
   "cell_type": "code",
   "execution_count": 7,
   "metadata": {},
   "outputs": [
    {
     "output_type": "stream",
     "name": "stderr",
     "text": [
      "  0%|          | 0/10 [00:03<?, ?it/s]\n"
     ]
    },
    {
     "output_type": "error",
     "ename": "NameError",
     "evalue": "name 'VSSL_DR' is not defined",
     "traceback": [
      "\u001b[1;31m---------------------------------------------------------------------------\u001b[0m",
      "\u001b[1;31mNameError\u001b[0m                                 Traceback (most recent call last)",
      "\u001b[1;32m<ipython-input-7-9a55ab027495>\u001b[0m in \u001b[0;36m<module>\u001b[1;34m\u001b[0m\n\u001b[0;32m     37\u001b[0m     \u001b[1;31m# Compute VSSL_DR estimate\u001b[0m\u001b[1;33m\u001b[0m\u001b[1;33m\u001b[0m\u001b[1;33m\u001b[0m\u001b[0m\n\u001b[0;32m     38\u001b[0m     vssl_dr_estimates.append(\n\u001b[1;32m---> 39\u001b[1;33m         \u001b[0mVSSL_DR\u001b[0m\u001b[1;33m(\u001b[0m\u001b[0mlabeled_data\u001b[0m\u001b[1;33m=\u001b[0m\u001b[0mlabeled_data\u001b[0m\u001b[1;33m,\u001b[0m \u001b[0munlabeled_data\u001b[0m\u001b[1;33m=\u001b[0m\u001b[0munlabeled_data\u001b[0m\u001b[1;33m,\u001b[0m \u001b[0mQ_model\u001b[0m\u001b[1;33m=\u001b[0m\u001b[0mQ_model\u001b[0m\u001b[1;33m,\u001b[0m \u001b[0mPS_model\u001b[0m\u001b[1;33m=\u001b[0m\u001b[0mPS_model\u001b[0m\u001b[1;33m,\u001b[0m \u001b[0mImputation_model\u001b[0m\u001b[1;33m=\u001b[0m\u001b[0mImputation_model\u001b[0m\u001b[1;33m)\u001b[0m\u001b[1;33m\u001b[0m\u001b[1;33m\u001b[0m\u001b[0m\n\u001b[0m\u001b[0;32m     40\u001b[0m     )\n\u001b[0;32m     41\u001b[0m \u001b[1;33m\u001b[0m\u001b[0m\n",
      "\u001b[1;31mNameError\u001b[0m: name 'VSSL_DR' is not defined"
     ]
    }
   ],
   "source": [
    "vssl_dr_estimates = list()\n",
    "\n",
    "for i in tqdm(range(config.n_simulations)):\n",
    "\n",
    "    # Sample trajectories\n",
    "    data = M.sample_trajectories(config.mc_samples, seed=config.start_seed+123123+i)\n",
    "\n",
    "    # Create surrogate variables\n",
    "    for t in range(config.num_timesteps):\n",
    "        data[t]['W'] = np.rint(data[t]['R'].values + np.random.normal(loc=0, scale=np.sqrt(2), size=config.mc_samples))\n",
    "\n",
    "    # Randomly split into labeled and unlabeled data\n",
    "    labeled_ids = np.random.choice(\n",
    "        list(range(len(data[0]))),\n",
    "        size=int(config.labeled_data_prop*len(data[0])), \n",
    "        replace=False)\n",
    "\n",
    "    labeled_data = [df.iloc[labeled_ids].reset_index(drop=True) for df in data]\n",
    "    unlabeled_data = [df.drop(index=labeled_ids).reset_index(drop=True) for df in data]\n",
    "\n",
    "    # Models for Q function and Propensity score\n",
    "    Q_model = construct_Q_model(model_name=config.q_model_name, model_params=q_model_params)\n",
    "    Q_model.fit(data=labeled_data)\n",
    "\n",
    "    PS_model = construct_PS_model(model_name=config.ps_model_name, model_params=ps_model_params)\n",
    "    PS_model.fit(data=data)\n",
    "    \n",
    "    # Learn imputation model (Imputation)\n",
    "    Imputation_model = ImputationLasso(\n",
    "        cv_splits=config.cv_splits, \n",
    "        imputation_features=[f'S{s}' for s in range(config.num_state_features)] + ['A'] + ['W'],\n",
    "        target='R',\n",
    "        seed=config.start_seed\n",
    "    )\n",
    "    Imputation_model.fit(data=labeled_data)\n",
    "\n",
    "    # Compute VSSL_DR estimate    \n",
    "    vssl_dr_estimates.append(\n",
    "        VSSL_DR(labeled_data=labeled_data, unlabeled_data=unlabeled_data, Q_model=Q_model, PS_model=PS_model, Imputation_model=Imputation_model)\n",
    "    )\n",
    "\n",
    "    "
   ]
  },
  {
   "cell_type": "code",
   "execution_count": null,
   "metadata": {},
   "outputs": [],
   "source": []
  },
  {
   "cell_type": "code",
   "execution_count": null,
   "metadata": {},
   "outputs": [],
   "source": []
  },
  {
   "cell_type": "code",
   "execution_count": null,
   "metadata": {},
   "outputs": [],
   "source": []
  },
  {
   "cell_type": "code",
   "execution_count": null,
   "metadata": {},
   "outputs": [],
   "source": []
  },
  {
   "cell_type": "code",
   "execution_count": null,
   "metadata": {},
   "outputs": [],
   "source": []
  },
  {
   "cell_type": "code",
   "execution_count": null,
   "metadata": {},
   "outputs": [],
   "source": []
  },
  {
   "cell_type": "code",
   "execution_count": null,
   "metadata": {},
   "outputs": [],
   "source": []
  },
  {
   "cell_type": "code",
   "execution_count": null,
   "metadata": {},
   "outputs": [],
   "source": []
  },
  {
   "cell_type": "code",
   "execution_count": null,
   "metadata": {},
   "outputs": [],
   "source": []
  },
  {
   "cell_type": "code",
   "execution_count": 36,
   "metadata": {},
   "outputs": [],
   "source": [
    "# Observed data\n",
    "obs_data = M.sample_trajectories(config.mc_samples, seed=config.start_seed)\n",
    "\n",
    "# Create surrogate variables \n",
    "for t in range(config.num_timesteps):\n",
    "    obs_data[t]['W'] = np.rint(obs_data[t]['R'].values + np.random.normal(loc=0, scale=np.sqrt(2), size=obs_data[t].shape[0]))"
   ]
  },
  {
   "cell_type": "code",
   "execution_count": 37,
   "metadata": {},
   "outputs": [],
   "source": [
    "# Estimate Q function for eval policy\n",
    "Q_model.fit(obs_data)\n",
    "\n",
    "# Estimate propensity scores for behavior policy\n",
    "PS_model.fit(obs_data)"
   ]
  },
  {
   "cell_type": "code",
   "execution_count": 38,
   "metadata": {},
   "outputs": [],
   "source": [
    "for t in range(config.num_timesteps):\n",
    "    df = obs_data[t].copy(deep=True)\n",
    "\n",
    "    if Q_model.eval_policy.deterministic:\n",
    "\n",
    "        # Predicted action value for eval policy\n",
    "        df['A'] = Q_model.eval_policy(data=df, timestep=t)\n",
    "        obs_data[t]['V_eval_(S)'] = Q_model.predict(data=df, timestep=t)\n",
    "\n",
    "        # Calculate probability of action under eval and behav policy\n",
    "        obs_data[t]['Pr_eval_(A)'] = (df['A'] == obs_data[t]['A']).astype(int)\n",
    "        behav_policy_prob_action = PS_model.predict_prob(\n",
    "            data=obs_data[t], timestep=t)\n",
    "        behav_policy_prob_action['A'] = obs_data[t]['A']\n",
    "        obs_data[t]['Pr_(A)'] = behav_policy_prob_action.apply(\n",
    "            lambda row: row[f'A{row[\"A\"]}'], axis=1\n",
    "        )\n",
    "    else:\n",
    "        raise NotImplementedError\n",
    "\n",
    "    # Calculate importance sampling ratio\n",
    "    obs_data[t]['rho'] = obs_data[t]['Pr_eval_(A)'] / obs_data[t]['Pr_(A)']\n",
    "    if t > 0:\n",
    "        obs_data[t]['rho'] *= obs_data[t-1]['rho']"
   ]
  },
  {
   "source": [
    "## Create surrogate variables"
   ],
   "cell_type": "markdown",
   "metadata": {}
  },
  {
   "cell_type": "code",
   "execution_count": 39,
   "metadata": {},
   "outputs": [],
   "source": [
    "# Randomly split into labeled and unlabeled data\n",
    "labeled_ids = np.random.choice(list(range(obs_data[0].shape[0])), size=int(config.labeled_data_prop*obs_data[0].shape[0]), replace=False)\n",
    "\n",
    "labeled_data = [data.iloc[labeled_ids].reset_index(drop=True) for data in obs_data]\n",
    "unlabeled_data = [data.drop(index=labeled_ids).reset_index(drop=True) for data in obs_data]"
   ]
  },
  {
   "source": [
    "## 1. Imputation"
   ],
   "cell_type": "markdown",
   "metadata": {}
  },
  {
   "cell_type": "code",
   "execution_count": 40,
   "metadata": {},
   "outputs": [],
   "source": [
    "from sklearn.linear_model import Lasso, LassoCV\n",
    "from sklearn.model_selection import KFold"
   ]
  },
  {
   "cell_type": "code",
   "execution_count": 41,
   "metadata": {},
   "outputs": [],
   "source": [
    "imp_models = list()\n",
    "imp_features = [f'S{s}' for s in range(config.num_state_features)] + ['A'] + ['W']\n",
    "\n",
    "for t in range(config.num_timesteps):\n",
    "    cv = KFold(n_splits=config.cv_splits)\n",
    "    \n",
    "    X = labeled_data[t][imp_features]\n",
    "    y = labeled_data[t]['R']\n",
    "\n",
    "    R_hat = pd.Series(index=labeled_data[t].index, dtype='float64')\n",
    "    \n",
    "    # Model selection\n",
    "    # Find best parameters using cross validation\n",
    "    model = LassoCV(cv=config.cv_splits, random_state=config.start_seed, normalize=True).fit(X, y)\n",
    "    eps = model.eps\n",
    "\n",
    "    # Getting prediction on every labeled data point\n",
    "    # Get reward predictions using cross validation (different from earlier)\n",
    "    imp_models.append([])\n",
    "    for train_index, test_index in cv.split(X):\n",
    "\n",
    "        # Train and test val data\n",
    "        X_val_train, X_val_test = X.iloc[train_index], X.iloc[test_index]\n",
    "        y_val_train, y_val_test = y.iloc[train_index], y.iloc[test_index]\n",
    "        \n",
    "        # Fit model\n",
    "        model = Lasso(alpha=eps, normalize=True)\n",
    "        model.fit(X_val_train, y_val_train)\n",
    "\n",
    "        # Predict reward on test val data\n",
    "        R_hat.iloc[test_index] = model.predict(X_val_test)\n",
    "\n",
    "        imp_models[t].append(model)\n",
    "    \n",
    "    labeled_data[t]['R_hat'] = R_hat\n",
    "        "
   ]
  },
  {
   "source": [
    "## 2. Refitting"
   ],
   "cell_type": "markdown",
   "metadata": {}
  },
  {
   "cell_type": "code",
   "execution_count": 42,
   "metadata": {},
   "outputs": [],
   "source": [
    "bias_coef = list()\n",
    "\n",
    "for t in range(config.num_timesteps):\n",
    "    bias_coef.append(\n",
    "        np.mean(labeled_data[t]['rho']*(labeled_data[t]['R'] - labeled_data[t]['R_hat'] ))\n",
    "    )"
   ]
  },
  {
   "source": [
    "## 3. Projection"
   ],
   "cell_type": "markdown",
   "metadata": {}
  },
  {
   "cell_type": "code",
   "execution_count": 43,
   "metadata": {},
   "outputs": [],
   "source": [
    "for t in range(config.num_timesteps):\n",
    "    R_hat = list()\n",
    "    for k in range(config.cv_splits):\n",
    "        R_hat.append(imp_models[t][k].predict(unlabeled_data[t][imp_features]))\n",
    "    unlabeled_data[t]['R_hat'] = np.vstack(R_hat).mean(axis=0)\n",
    "    unlabeled_data[t]['mu_hat'] = (unlabeled_data[t]['R_hat']*unlabeled_data[t]['rho']) + bias_coef[t]"
   ]
  },
  {
   "source": [
    "# Estimate"
   ],
   "cell_type": "markdown",
   "metadata": {}
  },
  {
   "cell_type": "code",
   "execution_count": 44,
   "metadata": {},
   "outputs": [
    {
     "output_type": "execute_result",
     "data": {
      "text/plain": [
       "-1.0227235238028713"
      ]
     },
     "metadata": {},
     "execution_count": 44
    }
   ],
   "source": [
    "VSSL_DR = unlabeled_data[0]['V_eval_(S)'].mean()\n",
    "for t in range(config.num_timesteps):\n",
    "    VSSL_DR += unlabeled_data[t]['mu_hat'].mean()\n",
    "\n",
    "    if t < (config.num_timesteps-1):\n",
    "        VSSL_DR -= (unlabeled_data[t]['rho'].clip(0, 1000) *\\\n",
    "            (unlabeled_data[t]['V_eval_(S)'] - unlabeled_data[t+1]['V_eval_(S)'])).mean()\n",
    "                    \n",
    "    else:\n",
    "        VSSL_DR -= (unlabeled_data[t]['rho'].clip(0, 1000) *\\\n",
    "            unlabeled_data[t]['V_eval_(S)']).mean()\n",
    "\n",
    "VSSL_DR"
   ]
  },
  {
   "cell_type": "code",
   "execution_count": 22,
   "metadata": {},
   "outputs": [
    {
     "output_type": "execute_result",
     "data": {
      "text/plain": [
       "-1.0052090577778887"
      ]
     },
     "metadata": {},
     "execution_count": 22
    }
   ],
   "source": [
    "VSSL_DR"
   ]
  },
  {
   "cell_type": "code",
   "execution_count": 33,
   "metadata": {},
   "outputs": [
    {
     "output_type": "execute_result",
     "data": {
      "text/plain": [
       "-1.0296569093835908"
      ]
     },
     "metadata": {},
     "execution_count": 33
    }
   ],
   "source": [
    "VSUP_DR(unlabeled_data, Q_model, PS_model)"
   ]
  },
  {
   "cell_type": "code",
   "execution_count": 34,
   "metadata": {},
   "outputs": [
    {
     "output_type": "execute_result",
     "data": {
      "text/plain": [
       "             S0        S1        S2        S3        S4  A         R  \\\n",
       "0     -0.157295 -0.388666 -0.176992  0.078131 -1.226940  1 -0.639847   \n",
       "1      1.697340  3.032601  2.464066  3.640915  1.590993  2  1.948491   \n",
       "2     -0.956179 -0.206530 -0.250608  0.539794 -0.229499  2  2.601532   \n",
       "3      0.898899 -1.994645 -0.270787 -2.935612  1.154672  0  5.601776   \n",
       "4      2.073542  5.591125  1.823354  1.626206  1.538596  2  3.486335   \n",
       "...         ...       ...       ...       ...       ... ..       ...   \n",
       "69995  0.268489  3.841374  2.482165  2.492351  1.534162  2  4.605025   \n",
       "69996  0.015480  0.503965  2.491706  1.444873  0.123380  2  0.960349   \n",
       "69997  0.108070  1.175278  0.702642  3.293904  1.105775  2  1.098109   \n",
       "69998  0.502841  1.694724  2.184746  3.351415  0.324994  2  3.251712   \n",
       "69999  0.926407  2.077206  1.212186  2.991772 -0.140117  2  2.492331   \n",
       "\n",
       "              W  V_eval_(S)  Pr_eval_(A)    Pr_(A)      rho     R_hat  \\\n",
       "0     -0.639847   -0.153891            1  0.388932  4.74903 -0.668163   \n",
       "1      1.948491    1.214421            1  0.999350  0.00000  1.817098   \n",
       "2      2.601532   -0.360394            0  0.800944  0.00000  2.444132   \n",
       "3      5.601776   -5.123701            0  0.869884  0.00000  5.324895   \n",
       "4      3.486335    7.935876            0  0.989604  0.00000  3.293699   \n",
       "...         ...         ...          ...       ...      ...       ...   \n",
       "69995  4.605025    4.420862            1  0.998525  0.00000  4.367838   \n",
       "69996  0.960349    2.207081            1  0.425276  0.00000  0.868308   \n",
       "69997  1.098109   -0.061115            0  0.999204  0.00000  1.000581   \n",
       "69998  3.251712    3.161411            1  0.990157  0.00000  3.068420   \n",
       "69999  2.492331    3.039126            1  0.992856  0.00000  2.339280   \n",
       "\n",
       "         mu_hat  \n",
       "0     -3.102681  \n",
       "1      0.022570  \n",
       "2      0.022570  \n",
       "3      0.022570  \n",
       "4      0.022570  \n",
       "...         ...  \n",
       "69995  0.022570  \n",
       "69996  0.022570  \n",
       "69997  0.022570  \n",
       "69998  0.022570  \n",
       "69999  0.022570  \n",
       "\n",
       "[70000 rows x 14 columns]"
      ],
      "text/html": "<div>\n<style scoped>\n    .dataframe tbody tr th:only-of-type {\n        vertical-align: middle;\n    }\n\n    .dataframe tbody tr th {\n        vertical-align: top;\n    }\n\n    .dataframe thead th {\n        text-align: right;\n    }\n</style>\n<table border=\"1\" class=\"dataframe\">\n  <thead>\n    <tr style=\"text-align: right;\">\n      <th></th>\n      <th>S0</th>\n      <th>S1</th>\n      <th>S2</th>\n      <th>S3</th>\n      <th>S4</th>\n      <th>A</th>\n      <th>R</th>\n      <th>W</th>\n      <th>V_eval_(S)</th>\n      <th>Pr_eval_(A)</th>\n      <th>Pr_(A)</th>\n      <th>rho</th>\n      <th>R_hat</th>\n      <th>mu_hat</th>\n    </tr>\n  </thead>\n  <tbody>\n    <tr>\n      <th>0</th>\n      <td>-0.157295</td>\n      <td>-0.388666</td>\n      <td>-0.176992</td>\n      <td>0.078131</td>\n      <td>-1.226940</td>\n      <td>1</td>\n      <td>-0.639847</td>\n      <td>-0.639847</td>\n      <td>-0.153891</td>\n      <td>1</td>\n      <td>0.388932</td>\n      <td>4.74903</td>\n      <td>-0.668163</td>\n      <td>-3.102681</td>\n    </tr>\n    <tr>\n      <th>1</th>\n      <td>1.697340</td>\n      <td>3.032601</td>\n      <td>2.464066</td>\n      <td>3.640915</td>\n      <td>1.590993</td>\n      <td>2</td>\n      <td>1.948491</td>\n      <td>1.948491</td>\n      <td>1.214421</td>\n      <td>1</td>\n      <td>0.999350</td>\n      <td>0.00000</td>\n      <td>1.817098</td>\n      <td>0.022570</td>\n    </tr>\n    <tr>\n      <th>2</th>\n      <td>-0.956179</td>\n      <td>-0.206530</td>\n      <td>-0.250608</td>\n      <td>0.539794</td>\n      <td>-0.229499</td>\n      <td>2</td>\n      <td>2.601532</td>\n      <td>2.601532</td>\n      <td>-0.360394</td>\n      <td>0</td>\n      <td>0.800944</td>\n      <td>0.00000</td>\n      <td>2.444132</td>\n      <td>0.022570</td>\n    </tr>\n    <tr>\n      <th>3</th>\n      <td>0.898899</td>\n      <td>-1.994645</td>\n      <td>-0.270787</td>\n      <td>-2.935612</td>\n      <td>1.154672</td>\n      <td>0</td>\n      <td>5.601776</td>\n      <td>5.601776</td>\n      <td>-5.123701</td>\n      <td>0</td>\n      <td>0.869884</td>\n      <td>0.00000</td>\n      <td>5.324895</td>\n      <td>0.022570</td>\n    </tr>\n    <tr>\n      <th>4</th>\n      <td>2.073542</td>\n      <td>5.591125</td>\n      <td>1.823354</td>\n      <td>1.626206</td>\n      <td>1.538596</td>\n      <td>2</td>\n      <td>3.486335</td>\n      <td>3.486335</td>\n      <td>7.935876</td>\n      <td>0</td>\n      <td>0.989604</td>\n      <td>0.00000</td>\n      <td>3.293699</td>\n      <td>0.022570</td>\n    </tr>\n    <tr>\n      <th>...</th>\n      <td>...</td>\n      <td>...</td>\n      <td>...</td>\n      <td>...</td>\n      <td>...</td>\n      <td>...</td>\n      <td>...</td>\n      <td>...</td>\n      <td>...</td>\n      <td>...</td>\n      <td>...</td>\n      <td>...</td>\n      <td>...</td>\n      <td>...</td>\n    </tr>\n    <tr>\n      <th>69995</th>\n      <td>0.268489</td>\n      <td>3.841374</td>\n      <td>2.482165</td>\n      <td>2.492351</td>\n      <td>1.534162</td>\n      <td>2</td>\n      <td>4.605025</td>\n      <td>4.605025</td>\n      <td>4.420862</td>\n      <td>1</td>\n      <td>0.998525</td>\n      <td>0.00000</td>\n      <td>4.367838</td>\n      <td>0.022570</td>\n    </tr>\n    <tr>\n      <th>69996</th>\n      <td>0.015480</td>\n      <td>0.503965</td>\n      <td>2.491706</td>\n      <td>1.444873</td>\n      <td>0.123380</td>\n      <td>2</td>\n      <td>0.960349</td>\n      <td>0.960349</td>\n      <td>2.207081</td>\n      <td>1</td>\n      <td>0.425276</td>\n      <td>0.00000</td>\n      <td>0.868308</td>\n      <td>0.022570</td>\n    </tr>\n    <tr>\n      <th>69997</th>\n      <td>0.108070</td>\n      <td>1.175278</td>\n      <td>0.702642</td>\n      <td>3.293904</td>\n      <td>1.105775</td>\n      <td>2</td>\n      <td>1.098109</td>\n      <td>1.098109</td>\n      <td>-0.061115</td>\n      <td>0</td>\n      <td>0.999204</td>\n      <td>0.00000</td>\n      <td>1.000581</td>\n      <td>0.022570</td>\n    </tr>\n    <tr>\n      <th>69998</th>\n      <td>0.502841</td>\n      <td>1.694724</td>\n      <td>2.184746</td>\n      <td>3.351415</td>\n      <td>0.324994</td>\n      <td>2</td>\n      <td>3.251712</td>\n      <td>3.251712</td>\n      <td>3.161411</td>\n      <td>1</td>\n      <td>0.990157</td>\n      <td>0.00000</td>\n      <td>3.068420</td>\n      <td>0.022570</td>\n    </tr>\n    <tr>\n      <th>69999</th>\n      <td>0.926407</td>\n      <td>2.077206</td>\n      <td>1.212186</td>\n      <td>2.991772</td>\n      <td>-0.140117</td>\n      <td>2</td>\n      <td>2.492331</td>\n      <td>2.492331</td>\n      <td>3.039126</td>\n      <td>1</td>\n      <td>0.992856</td>\n      <td>0.00000</td>\n      <td>2.339280</td>\n      <td>0.022570</td>\n    </tr>\n  </tbody>\n</table>\n<p>70000 rows × 14 columns</p>\n</div>"
     },
     "metadata": {},
     "execution_count": 34
    }
   ],
   "source": [
    "unlabeled_data[t]"
   ]
  },
  {
   "cell_type": "code",
   "execution_count": null,
   "metadata": {},
   "outputs": [],
   "source": []
  },
  {
   "source": [],
   "cell_type": "markdown",
   "metadata": {}
  },
  {
   "cell_type": "code",
   "execution_count": null,
   "metadata": {},
   "outputs": [],
   "source": []
  },
  {
   "cell_type": "code",
   "execution_count": null,
   "metadata": {},
   "outputs": [],
   "source": []
  },
  {
   "cell_type": "code",
   "execution_count": null,
   "metadata": {},
   "outputs": [],
   "source": []
  },
  {
   "cell_type": "code",
   "execution_count": null,
   "metadata": {},
   "outputs": [],
   "source": []
  },
  {
   "cell_type": "code",
   "execution_count": null,
   "metadata": {},
   "outputs": [],
   "source": []
  },
  {
   "cell_type": "code",
   "execution_count": 7,
   "metadata": {},
   "outputs": [],
   "source": [
    "Q_function_formula = reward_formula"
   ]
  },
  {
   "cell_type": "code",
   "execution_count": 9,
   "metadata": {},
   "outputs": [],
   "source": [
    "models = list()\n",
    "for t in range(config.num_timesteps-1, -1, -1):\n",
    "\n",
    "    df = obs_data[t]\n",
    "\n",
    "    # Target\n",
    "    if t == (config.num_timesteps-1):\n",
    "        df['y'] = df['R']\n",
    "    else:\n",
    "        df['y'] = df['R'] + pred_future_value\n",
    "\n",
    "    # Fit model\n",
    "    model = smf.ols(formula='y ~ ' + Q_function_formula, data=df).fit()\n",
    "    models.append(model)\n",
    "\n",
    "    # Find the value for the action that would have been taken by the eval policy\n",
    "    df_copy = df.copy(deep=True)        \n",
    "    df_copy['A'] = eval_policy(df_copy)\n",
    "    pred_future_value = model.predict(df_copy)\n",
    "\n",
    "models = models[::-1]"
   ]
  },
  {
   "cell_type": "markdown",
   "metadata": {},
   "source": [
    "# Q Learning"
   ]
  },
  {
   "cell_type": "code",
   "execution_count": 10,
   "metadata": {},
   "outputs": [],
   "source": [
    "# Q_function_formula = reward_formula"
   ]
  },
  {
   "cell_type": "code",
   "execution_count": 11,
   "metadata": {},
   "outputs": [],
   "source": [
    "# models = list()\n",
    "# for t in range(config.num_timesteps-1, -1, -1):\n",
    "\n",
    "#     df = obs_data[t]\n",
    "\n",
    "#     # Target\n",
    "#     if t == (config.num_timesteps-1):\n",
    "#         df['y'] = df['R']\n",
    "#     else:\n",
    "#         df['y'] = df['R'] + max_value\n",
    "\n",
    "#     # Fit model\n",
    "#     model = smf.ols(formula='y ~ ' + Q_function_formula, data=df).fit()\n",
    "#     models.append(model)\n",
    "\n",
    "#     # Find the predicted value of each action\n",
    "#     df_copy = df.copy(deep=True)        \n",
    "#     pred_value = []\n",
    "#     for a in range(config.num_actions):\n",
    "#         df_copy['A'] = str(a)\n",
    "#         pred_value.append(model.predict(df_copy))\n",
    "#     pred_value = pd.concat(pred_value, axis=1)\n",
    "#     pred_value.columns = columns=[f'A{d}' for d in range(config.num_actions)]\n",
    "\n",
    "#     # Find the maximum predicted value\n",
    "#     max_value = pred_value.max(axis=1)\n",
    "\n",
    "# models = models[::-1]"
   ]
  },
  {
   "cell_type": "markdown",
   "metadata": {},
   "source": [
    "# Propensity Score Models"
   ]
  },
  {
   "cell_type": "code",
   "execution_count": 12,
   "metadata": {},
   "outputs": [
    {
     "name": "stdout",
     "output_type": "stream",
     "text": [
      "Optimization terminated successfully.\n",
      "         Current function value: 0.709655\n",
      "         Iterations: 8\n",
      "         Function evaluations: 9\n",
      "         Gradient evaluations: 16\n",
      "         Hessian evaluations: 8\n",
      "Accuracy 0: 0.74269\n",
      "Optimization terminated successfully.\n",
      "         Current function value: 0.501219\n",
      "         Iterations: 11\n",
      "         Function evaluations: 12\n",
      "         Gradient evaluations: 22\n",
      "         Hessian evaluations: 11\n",
      "Accuracy 1: 0.80284\n",
      "Optimization terminated successfully.\n",
      "         Current function value: 0.395425\n",
      "         Iterations: 12\n",
      "         Function evaluations: 13\n",
      "         Gradient evaluations: 24\n",
      "         Hessian evaluations: 12\n",
      "Accuracy 2: 0.84146\n",
      "Optimization terminated successfully.\n",
      "         Current function value: 0.369989\n",
      "         Iterations: 13\n",
      "         Function evaluations: 14\n",
      "         Gradient evaluations: 26\n",
      "         Hessian evaluations: 13\n",
      "Accuracy 3: 0.85038\n",
      "Optimization terminated successfully.\n",
      "         Current function value: 0.326590\n",
      "         Iterations: 12\n",
      "         Function evaluations: 14\n",
      "         Gradient evaluations: 25\n",
      "         Hessian evaluations: 12\n",
      "Accuracy 4: 0.86708\n"
     ]
    }
   ],
   "source": [
    "PS_model = policy_formula\n",
    "\n",
    "ps_models = []\n",
    "for t in range(0, config.num_timesteps, 1):\n",
    "    ps_model = smf.mnlogit('A ~ ' + PS_model, data=obs_data[t].astype({'A': int}))\n",
    "    ps_model = ps_model.fit(method='ncg') \n",
    "    ps_models.append(ps_model)\n",
    "\n",
    "    print(f\"Accuracy {t}: {(ps_model.predict(obs_data[t]).values.argmax(axis=1) == obs_data[t]['A'].astype(int)).mean()}\")"
   ]
  },
  {
   "cell_type": "code",
   "execution_count": 22,
   "metadata": {},
   "outputs": [
    {
     "data": {
      "text/html": [
       "<div>\n",
       "<style scoped>\n",
       "    .dataframe tbody tr th:only-of-type {\n",
       "        vertical-align: middle;\n",
       "    }\n",
       "\n",
       "    .dataframe tbody tr th {\n",
       "        vertical-align: top;\n",
       "    }\n",
       "\n",
       "    .dataframe thead th {\n",
       "        text-align: right;\n",
       "    }\n",
       "</style>\n",
       "<table border=\"1\" class=\"dataframe\">\n",
       "  <thead>\n",
       "    <tr style=\"text-align: right;\">\n",
       "      <th></th>\n",
       "      <th>0</th>\n",
       "      <th>1</th>\n",
       "      <th>2</th>\n",
       "      <th>3</th>\n",
       "      <th>4</th>\n",
       "    </tr>\n",
       "  </thead>\n",
       "  <tbody>\n",
       "    <tr>\n",
       "      <th>0</th>\n",
       "      <td>0.055942</td>\n",
       "      <td>0.758886</td>\n",
       "      <td>0.047381</td>\n",
       "      <td>0.036914</td>\n",
       "      <td>0.100877</td>\n",
       "    </tr>\n",
       "    <tr>\n",
       "      <th>1</th>\n",
       "      <td>0.252592</td>\n",
       "      <td>0.091058</td>\n",
       "      <td>0.132222</td>\n",
       "      <td>0.059890</td>\n",
       "      <td>0.464238</td>\n",
       "    </tr>\n",
       "    <tr>\n",
       "      <th>2</th>\n",
       "      <td>0.002592</td>\n",
       "      <td>0.000490</td>\n",
       "      <td>0.002254</td>\n",
       "      <td>0.125785</td>\n",
       "      <td>0.868879</td>\n",
       "    </tr>\n",
       "    <tr>\n",
       "      <th>3</th>\n",
       "      <td>0.005362</td>\n",
       "      <td>0.017440</td>\n",
       "      <td>0.000951</td>\n",
       "      <td>0.021076</td>\n",
       "      <td>0.955171</td>\n",
       "    </tr>\n",
       "    <tr>\n",
       "      <th>4</th>\n",
       "      <td>0.277423</td>\n",
       "      <td>0.013168</td>\n",
       "      <td>0.327861</td>\n",
       "      <td>0.098501</td>\n",
       "      <td>0.283047</td>\n",
       "    </tr>\n",
       "    <tr>\n",
       "      <th>...</th>\n",
       "      <td>...</td>\n",
       "      <td>...</td>\n",
       "      <td>...</td>\n",
       "      <td>...</td>\n",
       "      <td>...</td>\n",
       "    </tr>\n",
       "    <tr>\n",
       "      <th>99995</th>\n",
       "      <td>0.079819</td>\n",
       "      <td>0.845222</td>\n",
       "      <td>0.018249</td>\n",
       "      <td>0.024993</td>\n",
       "      <td>0.031717</td>\n",
       "    </tr>\n",
       "    <tr>\n",
       "      <th>99996</th>\n",
       "      <td>0.045781</td>\n",
       "      <td>0.775983</td>\n",
       "      <td>0.091978</td>\n",
       "      <td>0.064982</td>\n",
       "      <td>0.021277</td>\n",
       "    </tr>\n",
       "    <tr>\n",
       "      <th>99997</th>\n",
       "      <td>0.058307</td>\n",
       "      <td>0.903005</td>\n",
       "      <td>0.035567</td>\n",
       "      <td>0.001879</td>\n",
       "      <td>0.001242</td>\n",
       "    </tr>\n",
       "    <tr>\n",
       "      <th>99998</th>\n",
       "      <td>0.026394</td>\n",
       "      <td>0.002616</td>\n",
       "      <td>0.004953</td>\n",
       "      <td>0.033875</td>\n",
       "      <td>0.932163</td>\n",
       "    </tr>\n",
       "    <tr>\n",
       "      <th>99999</th>\n",
       "      <td>0.111400</td>\n",
       "      <td>0.645366</td>\n",
       "      <td>0.004647</td>\n",
       "      <td>0.036336</td>\n",
       "      <td>0.202252</td>\n",
       "    </tr>\n",
       "  </tbody>\n",
       "</table>\n",
       "<p>100000 rows × 5 columns</p>\n",
       "</div>"
      ],
      "text/plain": [
       "              0         1         2         3         4\n",
       "0      0.055942  0.758886  0.047381  0.036914  0.100877\n",
       "1      0.252592  0.091058  0.132222  0.059890  0.464238\n",
       "2      0.002592  0.000490  0.002254  0.125785  0.868879\n",
       "3      0.005362  0.017440  0.000951  0.021076  0.955171\n",
       "4      0.277423  0.013168  0.327861  0.098501  0.283047\n",
       "...         ...       ...       ...       ...       ...\n",
       "99995  0.079819  0.845222  0.018249  0.024993  0.031717\n",
       "99996  0.045781  0.775983  0.091978  0.064982  0.021277\n",
       "99997  0.058307  0.903005  0.035567  0.001879  0.001242\n",
       "99998  0.026394  0.002616  0.004953  0.033875  0.932163\n",
       "99999  0.111400  0.645366  0.004647  0.036336  0.202252\n",
       "\n",
       "[100000 rows x 5 columns]"
      ]
     },
     "execution_count": 22,
     "metadata": {},
     "output_type": "execute_result"
    }
   ],
   "source": [
    "ps_model.predict(obs_data[0])"
   ]
  },
  {
   "cell_type": "markdown",
   "metadata": {},
   "source": [
    "# Eval Policy Value "
   ]
  },
  {
   "cell_type": "code",
   "execution_count": 13,
   "metadata": {},
   "outputs": [],
   "source": [
    "def calculat_avg_reward(data):\n",
    "    reward = np.zeros(data[0].shape[0])\n",
    "    for t in range(len(data)):\n",
    "        reward += data[t]['R']\n",
    "    \n",
    "    return reward.mean()"
   ]
  },
  {
   "cell_type": "code",
   "execution_count": 14,
   "metadata": {},
   "outputs": [],
   "source": [
    "# optimal_policy = ActionValuePolicy(models=models, num_actions=config.num_actions)"
   ]
  },
  {
   "cell_type": "markdown",
   "metadata": {},
   "source": [
    "## 1. Sampling"
   ]
  },
  {
   "cell_type": "code",
   "execution_count": 21,
   "metadata": {},
   "outputs": [
    {
     "name": "stdout",
     "output_type": "stream",
     "text": [
      "-4.910013447537342\n"
     ]
    }
   ],
   "source": [
    "# optimal_policy_data = M.sample_trajectories_for_policy(10000, optimal_policy,seed=config.seed + 10) \n",
    "eval_policy_data = M.sample_trajectories_for_policy(100000, eval_policy, seed=config.seed + 120) \n",
    "\n",
    "print(calculat_avg_reward(eval_policy_data))"
   ]
  },
  {
   "cell_type": "code",
   "execution_count": 16,
   "metadata": {},
   "outputs": [],
   "source": [
    "# behav_policy_data = M.sample_trajectories(10000, seed=2020) \n",
    "\n",
    "# print(calculat_avg_reward(behav_policy_data))"
   ]
  },
  {
   "cell_type": "markdown",
   "metadata": {},
   "source": [
    "## 2. VSUP"
   ]
  },
  {
   "cell_type": "code",
   "execution_count": 17,
   "metadata": {},
   "outputs": [],
   "source": [
    "behav_policy = list()\n",
    "for t in range(config.num_timesteps):\n",
    "    ps_model_weights = ps_models[t].params\n",
    "    ps_model_weights.rename({a: f'A{a+1}' for a in ps_model_weights.columns}, axis=1, \n",
    "    inplace=True)\n",
    "    ps_model_weights['A0'] = 0\n",
    "    ps_model_weights = ps_model_weights[[f'A{a}' for a in range(config.num_actions)]]\n",
    "    \n",
    "    behav_policy.append(\n",
    "        Policy(formula=PS_model, weights=ps_model_weights, deterministic=False)\n",
    "    )"
   ]
  },
  {
   "cell_type": "code",
   "execution_count": 18,
   "metadata": {},
   "outputs": [],
   "source": [
    "# Hack\n",
    "try:\n",
    "    for t in range(config.num_timesteps):\n",
    "        for col in [f'Pr(A{a})' for a in range(config.num_actions)]:\n",
    "            del obs_data[t][col]\n",
    "except KeyError:\n",
    "    pass\n",
    "\n",
    "# # Calculate value of each state under behavior policy\n",
    "# for t in range(config.num_timesteps):\n",
    "#     pred_action_value = optimal_policy.calculate_action_value(obs_data[t], t)\n",
    "#     pred_action_prob = behav_policy[t].calculate_action_prob(obs_data[t], t)\n",
    "    \n",
    "#     # pred_value = (pred_action_value.rename({col: col[5:-1] for col in pred_action_value.columns}, axis=1) * pred_action_prob).sum(axis=1)\n",
    "#     pred_value = pred_action_value.max(axis=1)\n",
    "    \n",
    "#     obs_data[t]['V(S)'] = pred_value\n",
    "#     obs_data[t] = pd.concat([obs_data[t], pred_action_prob.rename({col: f'Pr({col})' for col in pred_action_prob.columns}, axis=1)], axis=1)\n",
    "\n",
    "# Calculate value of each state under behavior policy\n",
    "for t in range(config.num_timesteps):\n",
    "    df = obs_data[t].copy(deep=True)\n",
    "\n",
    "    # Predicted action value for eval policy\n",
    "    df['A'] = eval_policy(df, t)\n",
    "    obs_data[t]['V(S)'] = models[t].predict(df)\n",
    "    obs_data[t]['eval_A'] = df['A']\n",
    "    \n",
    "    # Prob of action taken by eval policy under behav policy\n",
    "    pred_action_prob = behav_policy[t].calculate_action_prob(obs_data[t], t)\n",
    "    obs_data[t] = pd.concat([obs_data[t], pred_action_prob.rename({col: f'Pr({col})' for col in pred_action_prob.columns}, axis=1)], axis=1)"
   ]
  },
  {
   "cell_type": "code",
   "execution_count": 19,
   "metadata": {},
   "outputs": [],
   "source": [
    "# Calculate importance sampling weights\n",
    "# for t in range(config.num_timesteps):\n",
    "#     rho = obs_data[t].apply(lambda row: row[f'Pr(A{row[\"A\"]})'], axis=1)\n",
    "#     rho *= (obs_data[t]['A'] == optimal_policy(obs_data[t], t)).astype(int)\n",
    "\n",
    "#     if t > 0:\n",
    "#         rho *= obs_data[t-1]['rho']\n",
    "    \n",
    "#     obs_data[t]['rho'] = rho\n",
    "\n",
    "for t in range(config.num_timesteps):\n",
    "    rho = (obs_data[t]['A'] == obs_data[t]['eval_A']).astype(int)\n",
    "    rho /= obs_data[t].apply(lambda row: row[f'Pr(A{row[\"A\"]})'], axis=1)\n",
    "\n",
    "    if t > 0:\n",
    "        rho *= obs_data[t-1]['rho']\n",
    "    try:\n",
    "        del obs_data[t]['rho'] \n",
    "    except KeyError:\n",
    "        pass\n",
    "    \n",
    "    obs_data[t]['rho'] = rho"
   ]
  },
  {
   "cell_type": "code",
   "execution_count": 20,
   "metadata": {},
   "outputs": [
    {
     "name": "stdout",
     "output_type": "stream",
     "text": [
      "-4.928404770082305\n"
     ]
    }
   ],
   "source": [
    "VSUP_DR = obs_data[0]['V(S)'].mean()\n",
    "for h in range(0, config.num_timesteps):\n",
    "    if h < (config.num_timesteps-1):\n",
    "        VSUP_DR += (obs_data[h]['rho'] * (obs_data[h]['R']-obs_data[h]['V(S)'] +obs_data[h+1]['V(S)'])).mean()\n",
    "    else:\n",
    "        VSUP_DR += (obs_data[h]['rho'] * (obs_data[h]['R'] -obs_data[h]['V(S)'])).mean()\n",
    "print(VSUP_DR)"
   ]
  },
  {
   "cell_type": "code",
   "execution_count": null,
   "metadata": {},
   "outputs": [],
   "source": []
  },
  {
   "cell_type": "code",
   "execution_count": null,
   "metadata": {},
   "outputs": [],
   "source": []
  },
  {
   "cell_type": "code",
   "execution_count": null,
   "metadata": {},
   "outputs": [],
   "source": []
  },
  {
   "cell_type": "code",
   "execution_count": null,
   "metadata": {},
   "outputs": [],
   "source": []
  },
  {
   "cell_type": "code",
   "execution_count": null,
   "metadata": {},
   "outputs": [],
   "source": []
  },
  {
   "cell_type": "code",
   "execution_count": null,
   "metadata": {},
   "outputs": [],
   "source": [
    "# Predict probability of each action at every timestep\n",
    "\n",
    "# Predict Q(s, a) at every timestep\n",
    "\n",
    "# Calculate V_st"
   ]
  },
  {
   "cell_type": "code",
   "execution_count": 20,
   "metadata": {},
   "outputs": [],
   "source": [
    "# Timestep 0\n",
    "t = 0\n",
    "data_copy = obs_data[t].copy(deep=True)\n",
    "pred_value = pd.DataFrame()\n",
    "for a in range(config.num_actions):\n",
    "    data_copy['A'] = str(a)\n",
    "    pred_value[f'A{a}'] = models[t].predict(data_copy)\n"
   ]
  },
  {
   "cell_type": "code",
   "execution_count": 20,
   "metadata": {},
   "outputs": [
    {
     "data": {
      "text/plain": [
       "0       -0.566629\n",
       "1        1.216454\n",
       "2        1.226768\n",
       "3        3.635046\n",
       "4        3.041791\n",
       "           ...   \n",
       "99995    1.270736\n",
       "99996    3.114499\n",
       "99997   -1.171686\n",
       "99998    3.044376\n",
       "99999   -5.170365\n",
       "Length: 100000, dtype: float64"
      ]
     },
     "execution_count": 20,
     "metadata": {},
     "output_type": "execute_result"
    }
   ],
   "source": [
    "pred_value"
   ]
  },
  {
   "cell_type": "code",
   "execution_count": 125,
   "metadata": {},
   "outputs": [
    {
     "data": {
      "text/plain": [
       "<statsmodels.discrete.discrete_model.MultinomialResultsWrapper at 0x1cb431e36d0>"
      ]
     },
     "execution_count": 125,
     "metadata": {},
     "output_type": "execute_result"
    }
   ],
   "source": [
    "ps_models[1]"
   ]
  },
  {
   "cell_type": "code",
   "execution_count": null,
   "metadata": {},
   "outputs": [],
   "source": [
    "# Replace Pi by PS_model"
   ]
  },
  {
   "cell_type": "code",
   "execution_count": 123,
   "metadata": {},
   "outputs": [
    {
     "data": {
      "text/plain": [
       "<statsmodels.discrete.discrete_model.MultinomialResultsWrapper at 0x1cb431e36d0>"
      ]
     },
     "execution_count": 123,
     "metadata": {},
     "output_type": "execute_result"
    }
   ],
   "source": [
    "ps_models[1]"
   ]
  },
  {
   "cell_type": "code",
   "execution_count": 124,
   "metadata": {},
   "outputs": [
    {
     "name": "stdout",
     "output_type": "stream",
     "text": [
      "-5.744099948774931\n",
      "-1.6709106265556115\n",
      "-2.212764721426827\n",
      "-2.4873926118283864\n"
     ]
    },
    {
     "ename": "KeyboardInterrupt",
     "evalue": "",
     "output_type": "error",
     "traceback": [
      "\u001b[1;31m---------------------------------------------------------------------------\u001b[0m",
      "\u001b[1;31mKeyboardInterrupt\u001b[0m                         Traceback (most recent call last)",
      "\u001b[1;32m<ipython-input-124-2bf18edd35e1>\u001b[0m in \u001b[0;36m<module>\u001b[1;34m\u001b[0m\n\u001b[0;32m     11\u001b[0m \u001b[1;33m\u001b[0m\u001b[0m\n\u001b[0;32m     12\u001b[0m             \u001b[1;32mif\u001b[0m \u001b[0malt_policy\u001b[0m\u001b[1;33m.\u001b[0m\u001b[0mdeterministic\u001b[0m\u001b[1;33m:\u001b[0m\u001b[1;33m\u001b[0m\u001b[1;33m\u001b[0m\u001b[0m\n\u001b[1;32m---> 13\u001b[1;33m                 \u001b[0malt_action\u001b[0m \u001b[1;33m=\u001b[0m \u001b[0malt_policy\u001b[0m\u001b[1;33m(\u001b[0m\u001b[0mobs_data\u001b[0m\u001b[1;33m[\u001b[0m\u001b[0mh\u001b[0m\u001b[1;33m]\u001b[0m\u001b[1;33m.\u001b[0m\u001b[0miloc\u001b[0m\u001b[1;33m[\u001b[0m\u001b[1;33m[\u001b[0m\u001b[0mi\u001b[0m\u001b[1;33m]\u001b[0m\u001b[1;33m]\u001b[0m\u001b[1;33m,\u001b[0m \u001b[0mh\u001b[0m\u001b[1;33m)\u001b[0m\u001b[1;33m.\u001b[0m\u001b[0miloc\u001b[0m\u001b[1;33m[\u001b[0m\u001b[1;36m0\u001b[0m\u001b[1;33m]\u001b[0m\u001b[1;33m\u001b[0m\u001b[1;33m\u001b[0m\u001b[0m\n\u001b[0m\u001b[0;32m     14\u001b[0m                 \u001b[0mactual_action\u001b[0m \u001b[1;33m=\u001b[0m \u001b[0mobs_data\u001b[0m\u001b[1;33m[\u001b[0m\u001b[0mh\u001b[0m\u001b[1;33m]\u001b[0m\u001b[1;33m.\u001b[0m\u001b[0miloc\u001b[0m\u001b[1;33m[\u001b[0m\u001b[1;33m[\u001b[0m\u001b[0mi\u001b[0m\u001b[1;33m]\u001b[0m\u001b[1;33m]\u001b[0m\u001b[1;33m.\u001b[0m\u001b[0miloc\u001b[0m\u001b[1;33m[\u001b[0m\u001b[1;36m0\u001b[0m\u001b[1;33m]\u001b[0m\u001b[1;33m[\u001b[0m\u001b[1;34m'A'\u001b[0m\u001b[1;33m]\u001b[0m\u001b[1;33m\u001b[0m\u001b[1;33m\u001b[0m\u001b[0m\n\u001b[0;32m     15\u001b[0m                 \u001b[0mpi_a_s\u001b[0m \u001b[1;33m=\u001b[0m \u001b[1;36m0\u001b[0m \u001b[1;32mif\u001b[0m \u001b[1;33m(\u001b[0m\u001b[0malt_action\u001b[0m \u001b[1;33m!=\u001b[0m \u001b[0mactual_action\u001b[0m\u001b[1;33m)\u001b[0m \u001b[1;32melse\u001b[0m \u001b[1;36m1\u001b[0m\u001b[1;33m\u001b[0m\u001b[1;33m\u001b[0m\u001b[0m\n",
      "\u001b[1;32mc:\\Users\\rudra\\OneDrive - Harvard University\\projects\\ss-oprl\\src\\policy.py\u001b[0m in \u001b[0;36m__call__\u001b[1;34m(self, data, timestep)\u001b[0m\n\u001b[0;32m     52\u001b[0m         \u001b[1;32mfor\u001b[0m \u001b[0ma\u001b[0m \u001b[1;32min\u001b[0m \u001b[0mrange\u001b[0m\u001b[1;33m(\u001b[0m\u001b[0mself\u001b[0m\u001b[1;33m.\u001b[0m\u001b[0mnum_actions\u001b[0m\u001b[1;33m)\u001b[0m\u001b[1;33m:\u001b[0m\u001b[1;33m\u001b[0m\u001b[1;33m\u001b[0m\u001b[0m\n\u001b[0;32m     53\u001b[0m             \u001b[0mdata_copy\u001b[0m\u001b[1;33m[\u001b[0m\u001b[1;34m'A'\u001b[0m\u001b[1;33m]\u001b[0m \u001b[1;33m=\u001b[0m \u001b[0mstr\u001b[0m\u001b[1;33m(\u001b[0m\u001b[0ma\u001b[0m\u001b[1;33m)\u001b[0m\u001b[1;33m\u001b[0m\u001b[1;33m\u001b[0m\u001b[0m\n\u001b[1;32m---> 54\u001b[1;33m             \u001b[0mpred_value\u001b[0m\u001b[1;33m[\u001b[0m\u001b[1;34mf'A{a}'\u001b[0m\u001b[1;33m]\u001b[0m \u001b[1;33m=\u001b[0m \u001b[0mmodel\u001b[0m\u001b[1;33m.\u001b[0m\u001b[0mpredict\u001b[0m\u001b[1;33m(\u001b[0m\u001b[0mdata_copy\u001b[0m\u001b[1;33m)\u001b[0m\u001b[1;33m\u001b[0m\u001b[1;33m\u001b[0m\u001b[0m\n\u001b[0m\u001b[0;32m     55\u001b[0m \u001b[1;33m\u001b[0m\u001b[0m\n\u001b[0;32m     56\u001b[0m         \u001b[1;32mreturn\u001b[0m \u001b[0mpred_value\u001b[0m\u001b[1;33m.\u001b[0m\u001b[0midxmax\u001b[0m\u001b[1;33m(\u001b[0m\u001b[0maxis\u001b[0m\u001b[1;33m=\u001b[0m\u001b[1;36m1\u001b[0m\u001b[1;33m)\u001b[0m\u001b[1;33m.\u001b[0m\u001b[0mmap\u001b[0m\u001b[1;33m(\u001b[0m\u001b[1;32mlambda\u001b[0m \u001b[0mrow\u001b[0m\u001b[1;33m:\u001b[0m \u001b[0mrow\u001b[0m\u001b[1;33m[\u001b[0m\u001b[1;36m1\u001b[0m\u001b[1;33m:\u001b[0m\u001b[1;33m]\u001b[0m\u001b[1;33m)\u001b[0m\u001b[1;33m\u001b[0m\u001b[1;33m\u001b[0m\u001b[0m\n",
      "\u001b[1;32m~\\.conda\\envs\\bst263\\lib\\site-packages\\statsmodels\\base\\model.py\u001b[0m in \u001b[0;36mpredict\u001b[1;34m(self, exog, transform, *args, **kwargs)\u001b[0m\n\u001b[0;32m   1074\u001b[0m             \u001b[0mis_dict\u001b[0m \u001b[1;33m=\u001b[0m \u001b[0misinstance\u001b[0m\u001b[1;33m(\u001b[0m\u001b[0mexog\u001b[0m\u001b[1;33m,\u001b[0m \u001b[0mdict\u001b[0m\u001b[1;33m)\u001b[0m\u001b[1;33m\u001b[0m\u001b[1;33m\u001b[0m\u001b[0m\n\u001b[0;32m   1075\u001b[0m             \u001b[1;32mtry\u001b[0m\u001b[1;33m:\u001b[0m\u001b[1;33m\u001b[0m\u001b[1;33m\u001b[0m\u001b[0m\n\u001b[1;32m-> 1076\u001b[1;33m                 \u001b[0mexog\u001b[0m \u001b[1;33m=\u001b[0m \u001b[0mdmatrix\u001b[0m\u001b[1;33m(\u001b[0m\u001b[0mdesign_info\u001b[0m\u001b[1;33m,\u001b[0m \u001b[0mexog\u001b[0m\u001b[1;33m,\u001b[0m \u001b[0mreturn_type\u001b[0m\u001b[1;33m=\u001b[0m\u001b[1;34m\"dataframe\"\u001b[0m\u001b[1;33m)\u001b[0m\u001b[1;33m\u001b[0m\u001b[1;33m\u001b[0m\u001b[0m\n\u001b[0m\u001b[0;32m   1077\u001b[0m             \u001b[1;32mexcept\u001b[0m \u001b[0mException\u001b[0m \u001b[1;32mas\u001b[0m \u001b[0mexc\u001b[0m\u001b[1;33m:\u001b[0m\u001b[1;33m\u001b[0m\u001b[1;33m\u001b[0m\u001b[0m\n\u001b[0;32m   1078\u001b[0m                 msg = ('predict requires that you use a DataFrame when '\n",
      "\u001b[1;32m~\\.conda\\envs\\bst263\\lib\\site-packages\\patsy\\highlevel.py\u001b[0m in \u001b[0;36mdmatrix\u001b[1;34m(formula_like, data, eval_env, NA_action, return_type)\u001b[0m\n\u001b[0;32m    288\u001b[0m     \"\"\"\n\u001b[0;32m    289\u001b[0m     \u001b[0meval_env\u001b[0m \u001b[1;33m=\u001b[0m \u001b[0mEvalEnvironment\u001b[0m\u001b[1;33m.\u001b[0m\u001b[0mcapture\u001b[0m\u001b[1;33m(\u001b[0m\u001b[0meval_env\u001b[0m\u001b[1;33m,\u001b[0m \u001b[0mreference\u001b[0m\u001b[1;33m=\u001b[0m\u001b[1;36m1\u001b[0m\u001b[1;33m)\u001b[0m\u001b[1;33m\u001b[0m\u001b[1;33m\u001b[0m\u001b[0m\n\u001b[1;32m--> 290\u001b[1;33m     (lhs, rhs) = _do_highlevel_design(formula_like, data, eval_env,\n\u001b[0m\u001b[0;32m    291\u001b[0m                                       NA_action, return_type)\n\u001b[0;32m    292\u001b[0m     \u001b[1;32mif\u001b[0m \u001b[0mlhs\u001b[0m\u001b[1;33m.\u001b[0m\u001b[0mshape\u001b[0m\u001b[1;33m[\u001b[0m\u001b[1;36m1\u001b[0m\u001b[1;33m]\u001b[0m \u001b[1;33m!=\u001b[0m \u001b[1;36m0\u001b[0m\u001b[1;33m:\u001b[0m\u001b[1;33m\u001b[0m\u001b[1;33m\u001b[0m\u001b[0m\n",
      "\u001b[1;32m~\\.conda\\envs\\bst263\\lib\\site-packages\\patsy\\highlevel.py\u001b[0m in \u001b[0;36m_do_highlevel_design\u001b[1;34m(formula_like, data, eval_env, NA_action, return_type)\u001b[0m\n\u001b[0;32m    165\u001b[0m                                       NA_action)\n\u001b[0;32m    166\u001b[0m     \u001b[1;32mif\u001b[0m \u001b[0mdesign_infos\u001b[0m \u001b[1;32mis\u001b[0m \u001b[1;32mnot\u001b[0m \u001b[1;32mNone\u001b[0m\u001b[1;33m:\u001b[0m\u001b[1;33m\u001b[0m\u001b[1;33m\u001b[0m\u001b[0m\n\u001b[1;32m--> 167\u001b[1;33m         return build_design_matrices(design_infos, data,\n\u001b[0m\u001b[0;32m    168\u001b[0m                                      \u001b[0mNA_action\u001b[0m\u001b[1;33m=\u001b[0m\u001b[0mNA_action\u001b[0m\u001b[1;33m,\u001b[0m\u001b[1;33m\u001b[0m\u001b[1;33m\u001b[0m\u001b[0m\n\u001b[0;32m    169\u001b[0m                                      return_type=return_type)\n",
      "\u001b[1;32m~\\.conda\\envs\\bst263\\lib\\site-packages\\patsy\\build.py\u001b[0m in \u001b[0;36mbuild_design_matrices\u001b[1;34m(design_infos, data, NA_action, return_type, dtype)\u001b[0m\n\u001b[0;32m    919\u001b[0m         \u001b[0mis_NAs\u001b[0m\u001b[1;33m.\u001b[0m\u001b[0mappend\u001b[0m\u001b[1;33m(\u001b[0m\u001b[0mnp\u001b[0m\u001b[1;33m.\u001b[0m\u001b[0mzeros\u001b[0m\u001b[1;33m(\u001b[0m\u001b[0mlen\u001b[0m\u001b[1;33m(\u001b[0m\u001b[0mpandas_index\u001b[0m\u001b[1;33m)\u001b[0m\u001b[1;33m,\u001b[0m \u001b[0mdtype\u001b[0m\u001b[1;33m=\u001b[0m\u001b[0mbool\u001b[0m\u001b[1;33m)\u001b[0m\u001b[1;33m)\u001b[0m\u001b[1;33m\u001b[0m\u001b[1;33m\u001b[0m\u001b[0m\n\u001b[0;32m    920\u001b[0m         \u001b[0morigins\u001b[0m\u001b[1;33m.\u001b[0m\u001b[0mappend\u001b[0m\u001b[1;33m(\u001b[0m\u001b[1;32mNone\u001b[0m\u001b[1;33m)\u001b[0m\u001b[1;33m\u001b[0m\u001b[1;33m\u001b[0m\u001b[0m\n\u001b[1;32m--> 921\u001b[1;33m     \u001b[0mnew_values\u001b[0m \u001b[1;33m=\u001b[0m \u001b[0mNA_action\u001b[0m\u001b[1;33m.\u001b[0m\u001b[0mhandle_NA\u001b[0m\u001b[1;33m(\u001b[0m\u001b[0mvalues\u001b[0m\u001b[1;33m,\u001b[0m \u001b[0mis_NAs\u001b[0m\u001b[1;33m,\u001b[0m \u001b[0morigins\u001b[0m\u001b[1;33m)\u001b[0m\u001b[1;33m\u001b[0m\u001b[1;33m\u001b[0m\u001b[0m\n\u001b[0m\u001b[0;32m    922\u001b[0m     \u001b[1;31m# NA_action may have changed the number of rows.\u001b[0m\u001b[1;33m\u001b[0m\u001b[1;33m\u001b[0m\u001b[1;33m\u001b[0m\u001b[0m\n\u001b[0;32m    923\u001b[0m     \u001b[1;32mif\u001b[0m \u001b[0mnew_values\u001b[0m\u001b[1;33m:\u001b[0m\u001b[1;33m\u001b[0m\u001b[1;33m\u001b[0m\u001b[0m\n",
      "\u001b[1;32m~\\.conda\\envs\\bst263\\lib\\site-packages\\patsy\\missing.py\u001b[0m in \u001b[0;36mhandle_NA\u001b[1;34m(self, values, is_NAs, origins)\u001b[0m\n\u001b[0;32m    163\u001b[0m             \u001b[1;32mreturn\u001b[0m \u001b[0mself\u001b[0m\u001b[1;33m.\u001b[0m\u001b[0m_handle_NA_raise\u001b[0m\u001b[1;33m(\u001b[0m\u001b[0mvalues\u001b[0m\u001b[1;33m,\u001b[0m \u001b[0mis_NAs\u001b[0m\u001b[1;33m,\u001b[0m \u001b[0morigins\u001b[0m\u001b[1;33m)\u001b[0m\u001b[1;33m\u001b[0m\u001b[1;33m\u001b[0m\u001b[0m\n\u001b[0;32m    164\u001b[0m         \u001b[1;32melif\u001b[0m \u001b[0mself\u001b[0m\u001b[1;33m.\u001b[0m\u001b[0mon_NA\u001b[0m \u001b[1;33m==\u001b[0m \u001b[1;34m\"drop\"\u001b[0m\u001b[1;33m:\u001b[0m\u001b[1;33m\u001b[0m\u001b[1;33m\u001b[0m\u001b[0m\n\u001b[1;32m--> 165\u001b[1;33m             \u001b[1;32mreturn\u001b[0m \u001b[0mself\u001b[0m\u001b[1;33m.\u001b[0m\u001b[0m_handle_NA_drop\u001b[0m\u001b[1;33m(\u001b[0m\u001b[0mvalues\u001b[0m\u001b[1;33m,\u001b[0m \u001b[0mis_NAs\u001b[0m\u001b[1;33m,\u001b[0m \u001b[0morigins\u001b[0m\u001b[1;33m)\u001b[0m\u001b[1;33m\u001b[0m\u001b[1;33m\u001b[0m\u001b[0m\n\u001b[0m\u001b[0;32m    166\u001b[0m         \u001b[1;32melse\u001b[0m\u001b[1;33m:\u001b[0m \u001b[1;31m# pragma: no cover\u001b[0m\u001b[1;33m\u001b[0m\u001b[1;33m\u001b[0m\u001b[0m\n\u001b[0;32m    167\u001b[0m             \u001b[1;32massert\u001b[0m \u001b[1;32mFalse\u001b[0m\u001b[1;33m\u001b[0m\u001b[1;33m\u001b[0m\u001b[0m\n",
      "\u001b[1;32m~\\.conda\\envs\\bst263\\lib\\site-packages\\patsy\\missing.py\u001b[0m in \u001b[0;36m_handle_NA_drop\u001b[1;34m(self, values, is_NAs, origins)\u001b[0m\n\u001b[0;32m    176\u001b[0m         \u001b[0mtotal_mask\u001b[0m \u001b[1;33m=\u001b[0m \u001b[0mnp\u001b[0m\u001b[1;33m.\u001b[0m\u001b[0mzeros\u001b[0m\u001b[1;33m(\u001b[0m\u001b[0mis_NAs\u001b[0m\u001b[1;33m[\u001b[0m\u001b[1;36m0\u001b[0m\u001b[1;33m]\u001b[0m\u001b[1;33m.\u001b[0m\u001b[0mshape\u001b[0m\u001b[1;33m[\u001b[0m\u001b[1;36m0\u001b[0m\u001b[1;33m]\u001b[0m\u001b[1;33m,\u001b[0m \u001b[0mdtype\u001b[0m\u001b[1;33m=\u001b[0m\u001b[0mbool\u001b[0m\u001b[1;33m)\u001b[0m\u001b[1;33m\u001b[0m\u001b[1;33m\u001b[0m\u001b[0m\n\u001b[0;32m    177\u001b[0m         \u001b[1;32mfor\u001b[0m \u001b[0mis_NA\u001b[0m \u001b[1;32min\u001b[0m \u001b[0mis_NAs\u001b[0m\u001b[1;33m:\u001b[0m\u001b[1;33m\u001b[0m\u001b[1;33m\u001b[0m\u001b[0m\n\u001b[1;32m--> 178\u001b[1;33m             \u001b[0mtotal_mask\u001b[0m \u001b[1;33m|=\u001b[0m \u001b[0mis_NA\u001b[0m\u001b[1;33m\u001b[0m\u001b[1;33m\u001b[0m\u001b[0m\n\u001b[0m\u001b[0;32m    179\u001b[0m         \u001b[0mgood_mask\u001b[0m \u001b[1;33m=\u001b[0m \u001b[1;33m~\u001b[0m\u001b[0mtotal_mask\u001b[0m\u001b[1;33m\u001b[0m\u001b[1;33m\u001b[0m\u001b[0m\n\u001b[0;32m    180\u001b[0m         \u001b[1;31m# \"...\" to handle 1- versus 2-dim indexing\u001b[0m\u001b[1;33m\u001b[0m\u001b[1;33m\u001b[0m\u001b[1;33m\u001b[0m\u001b[0m\n",
      "\u001b[1;32m~\\.conda\\envs\\bst263\\lib\\site-packages\\pandas\\core\\ops\\methods.py\u001b[0m in \u001b[0;36mf\u001b[1;34m(self, other)\u001b[0m\n\u001b[0;32m     93\u001b[0m \u001b[1;33m\u001b[0m\u001b[0m\n\u001b[0;32m     94\u001b[0m         \u001b[1;32mdef\u001b[0m \u001b[0mf\u001b[0m\u001b[1;33m(\u001b[0m\u001b[0mself\u001b[0m\u001b[1;33m,\u001b[0m \u001b[0mother\u001b[0m\u001b[1;33m)\u001b[0m\u001b[1;33m:\u001b[0m\u001b[1;33m\u001b[0m\u001b[1;33m\u001b[0m\u001b[0m\n\u001b[1;32m---> 95\u001b[1;33m             \u001b[0mresult\u001b[0m \u001b[1;33m=\u001b[0m \u001b[0mmethod\u001b[0m\u001b[1;33m(\u001b[0m\u001b[0mself\u001b[0m\u001b[1;33m,\u001b[0m \u001b[0mother\u001b[0m\u001b[1;33m)\u001b[0m\u001b[1;33m\u001b[0m\u001b[1;33m\u001b[0m\u001b[0m\n\u001b[0m\u001b[0;32m     96\u001b[0m \u001b[1;33m\u001b[0m\u001b[0m\n\u001b[0;32m     97\u001b[0m             \u001b[1;31m# this makes sure that we are aligned like the input\u001b[0m\u001b[1;33m\u001b[0m\u001b[1;33m\u001b[0m\u001b[1;33m\u001b[0m\u001b[0m\n",
      "\u001b[1;32m~\\.conda\\envs\\bst263\\lib\\site-packages\\pandas\\core\\ops\\common.py\u001b[0m in \u001b[0;36mnew_method\u001b[1;34m(self, other)\u001b[0m\n\u001b[0;32m     62\u001b[0m         \u001b[0mother\u001b[0m \u001b[1;33m=\u001b[0m \u001b[0mitem_from_zerodim\u001b[0m\u001b[1;33m(\u001b[0m\u001b[0mother\u001b[0m\u001b[1;33m)\u001b[0m\u001b[1;33m\u001b[0m\u001b[1;33m\u001b[0m\u001b[0m\n\u001b[0;32m     63\u001b[0m \u001b[1;33m\u001b[0m\u001b[0m\n\u001b[1;32m---> 64\u001b[1;33m         \u001b[1;32mreturn\u001b[0m \u001b[0mmethod\u001b[0m\u001b[1;33m(\u001b[0m\u001b[0mself\u001b[0m\u001b[1;33m,\u001b[0m \u001b[0mother\u001b[0m\u001b[1;33m)\u001b[0m\u001b[1;33m\u001b[0m\u001b[1;33m\u001b[0m\u001b[0m\n\u001b[0m\u001b[0;32m     65\u001b[0m \u001b[1;33m\u001b[0m\u001b[0m\n\u001b[0;32m     66\u001b[0m     \u001b[1;32mreturn\u001b[0m \u001b[0mnew_method\u001b[0m\u001b[1;33m\u001b[0m\u001b[1;33m\u001b[0m\u001b[0m\n",
      "\u001b[1;32m~\\.conda\\envs\\bst263\\lib\\site-packages\\pandas\\core\\ops\\__init__.py\u001b[0m in \u001b[0;36mwrapper\u001b[1;34m(self, other)\u001b[0m\n\u001b[0;32m    547\u001b[0m         \u001b[0mrvalues\u001b[0m \u001b[1;33m=\u001b[0m \u001b[0mextract_array\u001b[0m\u001b[1;33m(\u001b[0m\u001b[0mother\u001b[0m\u001b[1;33m,\u001b[0m \u001b[0mextract_numpy\u001b[0m\u001b[1;33m=\u001b[0m\u001b[1;32mTrue\u001b[0m\u001b[1;33m)\u001b[0m\u001b[1;33m\u001b[0m\u001b[1;33m\u001b[0m\u001b[0m\n\u001b[0;32m    548\u001b[0m \u001b[1;33m\u001b[0m\u001b[0m\n\u001b[1;32m--> 549\u001b[1;33m         \u001b[0mres_values\u001b[0m \u001b[1;33m=\u001b[0m \u001b[0mlogical_op\u001b[0m\u001b[1;33m(\u001b[0m\u001b[0mlvalues\u001b[0m\u001b[1;33m,\u001b[0m \u001b[0mrvalues\u001b[0m\u001b[1;33m,\u001b[0m \u001b[0mop\u001b[0m\u001b[1;33m)\u001b[0m\u001b[1;33m\u001b[0m\u001b[1;33m\u001b[0m\u001b[0m\n\u001b[0m\u001b[0;32m    550\u001b[0m         \u001b[1;32mreturn\u001b[0m \u001b[0m_construct_result\u001b[0m\u001b[1;33m(\u001b[0m\u001b[0mself\u001b[0m\u001b[1;33m,\u001b[0m \u001b[0mres_values\u001b[0m\u001b[1;33m,\u001b[0m \u001b[0mindex\u001b[0m\u001b[1;33m=\u001b[0m\u001b[0mself\u001b[0m\u001b[1;33m.\u001b[0m\u001b[0mindex\u001b[0m\u001b[1;33m,\u001b[0m \u001b[0mname\u001b[0m\u001b[1;33m=\u001b[0m\u001b[0mres_name\u001b[0m\u001b[1;33m)\u001b[0m\u001b[1;33m\u001b[0m\u001b[1;33m\u001b[0m\u001b[0m\n\u001b[0;32m    551\u001b[0m \u001b[1;33m\u001b[0m\u001b[0m\n",
      "\u001b[1;32m~\\.conda\\envs\\bst263\\lib\\site-packages\\pandas\\core\\ops\\array_ops.py\u001b[0m in \u001b[0;36mlogical_op\u001b[1;34m(left, right, op)\u001b[0m\n\u001b[0;32m    365\u001b[0m \u001b[1;33m\u001b[0m\u001b[0m\n\u001b[0;32m    366\u001b[0m         \u001b[0mres_values\u001b[0m \u001b[1;33m=\u001b[0m \u001b[0mna_logical_op\u001b[0m\u001b[1;33m(\u001b[0m\u001b[0mlvalues\u001b[0m\u001b[1;33m,\u001b[0m \u001b[0mrvalues\u001b[0m\u001b[1;33m,\u001b[0m \u001b[0mop\u001b[0m\u001b[1;33m)\u001b[0m\u001b[1;33m\u001b[0m\u001b[1;33m\u001b[0m\u001b[0m\n\u001b[1;32m--> 367\u001b[1;33m         \u001b[0mres_values\u001b[0m \u001b[1;33m=\u001b[0m \u001b[0mfiller\u001b[0m\u001b[1;33m(\u001b[0m\u001b[0mres_values\u001b[0m\u001b[1;33m)\u001b[0m  \u001b[1;31m# type: ignore\u001b[0m\u001b[1;33m\u001b[0m\u001b[1;33m\u001b[0m\u001b[0m\n\u001b[0m\u001b[0;32m    368\u001b[0m \u001b[1;33m\u001b[0m\u001b[0m\n\u001b[0;32m    369\u001b[0m     \u001b[1;32mreturn\u001b[0m \u001b[0mres_values\u001b[0m\u001b[1;33m\u001b[0m\u001b[1;33m\u001b[0m\u001b[0m\n",
      "\u001b[1;32m~\\.conda\\envs\\bst263\\lib\\site-packages\\pandas\\core\\ops\\array_ops.py\u001b[0m in \u001b[0;36mfill_bool\u001b[1;34m(x, left)\u001b[0m\n\u001b[0;32m    334\u001b[0m \u001b[1;33m\u001b[0m\u001b[0m\n\u001b[0;32m    335\u001b[0m         \u001b[1;32mif\u001b[0m \u001b[0mleft\u001b[0m \u001b[1;32mis\u001b[0m \u001b[1;32mNone\u001b[0m \u001b[1;32mor\u001b[0m \u001b[0mis_bool_dtype\u001b[0m\u001b[1;33m(\u001b[0m\u001b[0mleft\u001b[0m\u001b[1;33m.\u001b[0m\u001b[0mdtype\u001b[0m\u001b[1;33m)\u001b[0m\u001b[1;33m:\u001b[0m\u001b[1;33m\u001b[0m\u001b[1;33m\u001b[0m\u001b[0m\n\u001b[1;32m--> 336\u001b[1;33m             \u001b[0mx\u001b[0m \u001b[1;33m=\u001b[0m \u001b[0mx\u001b[0m\u001b[1;33m.\u001b[0m\u001b[0mastype\u001b[0m\u001b[1;33m(\u001b[0m\u001b[0mbool\u001b[0m\u001b[1;33m)\u001b[0m\u001b[1;33m\u001b[0m\u001b[1;33m\u001b[0m\u001b[0m\n\u001b[0m\u001b[0;32m    337\u001b[0m         \u001b[1;32mreturn\u001b[0m \u001b[0mx\u001b[0m\u001b[1;33m\u001b[0m\u001b[1;33m\u001b[0m\u001b[0m\n\u001b[0;32m    338\u001b[0m \u001b[1;33m\u001b[0m\u001b[0m\n",
      "\u001b[1;31mKeyboardInterrupt\u001b[0m: "
     ]
    }
   ],
   "source": [
    "alt_policy = optimal_policy\n",
    "\n",
    "VSUP_DR  = 0\n",
    "for n, i in enumerate(list(np.random.randint(0, obs_data[0].shape[0], 1000))):\n",
    "    VSUP_DR += models[0].predict(obs_data[0].iloc[[i]]).iloc[0]\n",
    "    for t in range(config.num_timesteps):\n",
    "        # VSUP_DR += models[t].predict(obs_data[t].iloc[[i]]).iloc[0]\n",
    "        rho_h = 1\n",
    "        for h in range(t):\n",
    "            # pi_a_s = optimal_policy()\n",
    "\n",
    "            if alt_policy.deterministic:\n",
    "                alt_action = alt_policy(obs_data[h].iloc[[i]], h).iloc[0]\n",
    "                actual_action = obs_data[h].iloc[[i]].iloc[0]['A']\n",
    "                pi_a_s = 0 if (alt_action != actual_action) else 1\n",
    "            else:\n",
    "                raise NotImplementedError\n",
    "\n",
    "            pib_a_s = Pi.calculate_action_prob(obs_data[h].iloc[i], h)\n",
    "            pib_a_s = pib_a_s['A' + actual_action].iloc[0]\n",
    "            \n",
    "            rho_h *=  pi_a_s / pib_a_s\n",
    "        \n",
    "\n",
    "        td_target = obs_data[t].iloc[i]['R']\n",
    "        # td_target = obs_data[t].iloc[i]['R'] + sum(\n",
    "            # obs_data[f].iloc[i]['R'] for f in range(t+1, config.num_timesteps))\n",
    "        try:\n",
    "            td_target += models[t+1].predict(obs_data[t+1].iloc[[i]]).iloc[0]\n",
    "        except IndexError:\n",
    "            pass\n",
    "        delta_td = td_target - models[t].predict(obs_data[t].iloc[[i]]).iloc[0]\n",
    "        VSUP_DR += rho_h*delta_td\n",
    "\n",
    "    \n",
    "    if n % 50 == 0:    \n",
    "        print(VSUP_DR/(n+1))"
   ]
  },
  {
   "cell_type": "code",
   "execution_count": 67,
   "metadata": {},
   "outputs": [
    {
     "data": {
      "text/plain": [
       "[72571,\n",
       " 78448,\n",
       " 97397,\n",
       " 43355,\n",
       " 37141,\n",
       " 35762,\n",
       " 42722,\n",
       " 61476,\n",
       " 52303,\n",
       " 76092,\n",
       " 2551,\n",
       " 62937,\n",
       " 68918,\n",
       " 36265,\n",
       " 50981,\n",
       " 54988,\n",
       " 2277,\n",
       " 66829,\n",
       " 51182,\n",
       " 94672,\n",
       " 10351,\n",
       " 23142,\n",
       " 81897,\n",
       " 55025,\n",
       " 92717,\n",
       " 75357,\n",
       " 78935,\n",
       " 30583,\n",
       " 54906,\n",
       " 61857,\n",
       " 95565,\n",
       " 91716,\n",
       " 71308,\n",
       " 47830,\n",
       " 55060,\n",
       " 30719,\n",
       " 78603,\n",
       " 39907,\n",
       " 8066,\n",
       " 7480,\n",
       " 36349,\n",
       " 25495,\n",
       " 58866,\n",
       " 14047,\n",
       " 16319,\n",
       " 5773,\n",
       " 42922,\n",
       " 79224,\n",
       " 87876,\n",
       " 76657,\n",
       " 683,\n",
       " 96398,\n",
       " 17798,\n",
       " 95887,\n",
       " 45839,\n",
       " 12271,\n",
       " 73138,\n",
       " 87310,\n",
       " 9554,\n",
       " 28925,\n",
       " 32323,\n",
       " 62322,\n",
       " 38433,\n",
       " 68540,\n",
       " 46123,\n",
       " 17158,\n",
       " 21428,\n",
       " 17180,\n",
       " 72458,\n",
       " 91467,\n",
       " 30996,\n",
       " 93430,\n",
       " 37370,\n",
       " 78082,\n",
       " 64497,\n",
       " 93568,\n",
       " 94595,\n",
       " 11752,\n",
       " 1834,\n",
       " 89708,\n",
       " 43523,\n",
       " 60448,\n",
       " 23860,\n",
       " 56245,\n",
       " 6760,\n",
       " 57038,\n",
       " 86785,\n",
       " 33244,\n",
       " 29748,\n",
       " 92264,\n",
       " 41373,\n",
       " 97222,\n",
       " 49786,\n",
       " 33248,\n",
       " 18955,\n",
       " 99986,\n",
       " 4862,\n",
       " 94350,\n",
       " 73104,\n",
       " 45634]"
      ]
     },
     "execution_count": 67,
     "metadata": {},
     "output_type": "execute_result"
    }
   ],
   "source": []
  },
  {
   "cell_type": "code",
   "execution_count": 17,
   "metadata": {},
   "outputs": [
    {
     "data": {
      "text/html": [
       "<div>\n",
       "<style scoped>\n",
       "    .dataframe tbody tr th:only-of-type {\n",
       "        vertical-align: middle;\n",
       "    }\n",
       "\n",
       "    .dataframe tbody tr th {\n",
       "        vertical-align: top;\n",
       "    }\n",
       "\n",
       "    .dataframe thead th {\n",
       "        text-align: right;\n",
       "    }\n",
       "</style>\n",
       "<table border=\"1\" class=\"dataframe\">\n",
       "  <thead>\n",
       "    <tr style=\"text-align: right;\">\n",
       "      <th></th>\n",
       "      <th>S0</th>\n",
       "      <th>S1</th>\n",
       "      <th>S2</th>\n",
       "      <th>S3</th>\n",
       "      <th>S4</th>\n",
       "      <th>A</th>\n",
       "      <th>R</th>\n",
       "      <th>y</th>\n",
       "    </tr>\n",
       "  </thead>\n",
       "  <tbody>\n",
       "    <tr>\n",
       "      <th>0</th>\n",
       "      <td>1.488609</td>\n",
       "      <td>0.676011</td>\n",
       "      <td>-0.418451</td>\n",
       "      <td>-0.806521</td>\n",
       "      <td>0.555876</td>\n",
       "      <td>0</td>\n",
       "      <td>3.882888</td>\n",
       "      <td>8.405077</td>\n",
       "    </tr>\n",
       "  </tbody>\n",
       "</table>\n",
       "</div>"
      ],
      "text/plain": [
       "         S0        S1        S2        S3        S4  A         R         y\n",
       "0  1.488609  0.676011 -0.418451 -0.806521  0.555876  0  3.882888  8.405077"
      ]
     },
     "execution_count": 17,
     "metadata": {},
     "output_type": "execute_result"
    }
   ],
   "source": [
    " obs_data[h].iloc[[i]]"
   ]
  },
  {
   "cell_type": "code",
   "execution_count": 40,
   "metadata": {},
   "outputs": [
    {
     "data": {
      "text/plain": [
       "'0'"
      ]
     },
     "execution_count": 40,
     "metadata": {},
     "output_type": "execute_result"
    }
   ],
   "source": [
    "obs_data[h].iloc[i]['A']"
   ]
  },
  {
   "cell_type": "code",
   "execution_count": 46,
   "metadata": {},
   "outputs": [
    {
     "data": {
      "text/plain": [
       "0    0\n",
       "dtype: object"
      ]
     },
     "execution_count": 46,
     "metadata": {},
     "output_type": "execute_result"
    }
   ],
   "source": []
  },
  {
   "cell_type": "code",
   "execution_count": 47,
   "metadata": {},
   "outputs": [
    {
     "data": {
      "text/html": [
       "<div>\n",
       "<style scoped>\n",
       "    .dataframe tbody tr th:only-of-type {\n",
       "        vertical-align: middle;\n",
       "    }\n",
       "\n",
       "    .dataframe tbody tr th {\n",
       "        vertical-align: top;\n",
       "    }\n",
       "\n",
       "    .dataframe thead th {\n",
       "        text-align: right;\n",
       "    }\n",
       "</style>\n",
       "<table border=\"1\" class=\"dataframe\">\n",
       "  <thead>\n",
       "    <tr style=\"text-align: right;\">\n",
       "      <th></th>\n",
       "      <th>A0</th>\n",
       "      <th>A1</th>\n",
       "      <th>A2</th>\n",
       "    </tr>\n",
       "  </thead>\n",
       "  <tbody>\n",
       "    <tr>\n",
       "      <th>0</th>\n",
       "      <td>0.073779</td>\n",
       "      <td>0.549885</td>\n",
       "      <td>0.376337</td>\n",
       "    </tr>\n",
       "  </tbody>\n",
       "</table>\n",
       "</div>"
      ],
      "text/plain": [
       "         A0        A1        A2\n",
       "0  0.073779  0.549885  0.376337"
      ]
     },
     "execution_count": 47,
     "metadata": {},
     "output_type": "execute_result"
    }
   ],
   "source": [
    "pib_a_s"
   ]
  },
  {
   "cell_type": "code",
   "execution_count": null,
   "metadata": {},
   "outputs": [],
   "source": []
  },
  {
   "cell_type": "code",
   "execution_count": null,
   "metadata": {},
   "outputs": [],
   "source": []
  },
  {
   "cell_type": "code",
   "execution_count": null,
   "metadata": {},
   "outputs": [],
   "source": []
  },
  {
   "cell_type": "code",
   "execution_count": null,
   "metadata": {},
   "outputs": [],
   "source": []
  },
  {
   "cell_type": "code",
   "execution_count": null,
   "metadata": {},
   "outputs": [],
   "source": []
  },
  {
   "cell_type": "code",
   "execution_count": null,
   "metadata": {},
   "outputs": [],
   "source": []
  },
  {
   "cell_type": "code",
   "execution_count": 55,
   "metadata": {},
   "outputs": [],
   "source": [
    "from typing import Dict\n",
    "\n",
    "import numpy as np\n",
    "from numpy.random import multinomial, multivariate_normal, uniform, normal\n",
    "from scipy.special import softmax\n",
    "import pandas as pd\n",
    "import patsy\n",
    "import statsmodels.formula.api as smf\n",
    "import statsmodels.api as sm\n",
    "from sklearn.preprocessing import OneHotEncoder\n",
    "\n",
    "seed = 2021\n",
    "np.random.seed(seed)"
   ]
  },
  {
   "cell_type": "code",
   "execution_count": null,
   "metadata": {},
   "outputs": [],
   "source": []
  },
  {
   "cell_type": "code",
   "execution_count": 66,
   "metadata": {},
   "outputs": [
    {
     "name": "stdout",
     "output_type": "stream",
     "text": [
      "gamma (3,)\n",
      "beta (5, 3, 6)\n",
      "phi (3, 6)\n",
      "mu0 (5,)\n",
      "sigma (5, 5)\n"
     ]
    }
   ],
   "source": [
    "# Config\n",
    "num_timesteps = 5\n",
    "num_actions = 3\n",
    "state_dim = 5\n",
    "size = 10000\n",
    "\n",
    "# Mean of MVN for drawing state at timestep t\n",
    "mu0 = np.zeros(state_dim)\n",
    "sigma = np.eye(state_dim)\n",
    "\n",
    "# Coefficient for each action in the transition function\n",
    "gamma = uniform(-2, 2, size=num_actions)\n",
    "\n",
    "# Regression coefficients for outcome\n",
    "beta = uniform(-2, 2, size=(state_dim+1)*num_actions*num_timesteps).reshape(num_timesteps, num_actions, state_dim+1)\n",
    "# beta_a = uniform(-2, 2, size=num_timesteps*num_actions).reshape(num_timesteps, num_actions)\n",
    "# beta = uniform(-2, 2, size=state_dim*num_actions).reshape(num_actions, state_dim)\n",
    "# beta_a = uniform(-2, 2, size=num_actions)\n",
    "\n",
    "# Regression coefficients for treatment \n",
    "# phi = uniform(-5, 2, size=(state_dim+1)*(num_actions-1)*num_timesteps).reshape(num_timesteps, num_actions-1, state_dim+1)\n",
    "# phi = np.concatenate([np.zeros((num_timesteps, 1, state_dim+1)), phi], 1)\n",
    "phi = uniform(-2, 2, size=(state_dim+1)*(num_actions-1)).reshape(num_actions-1, state_dim+1)\n",
    "phi = np.concatenate([phi, np.zeros((1, state_dim+1))], 0)\n",
    "\n",
    "print(\"gamma\", gamma.shape)\n",
    "print(\"beta\", beta.shape)\n",
    "print(\"phi\", phi.shape)\n",
    "print(\"mu0\", mu0.shape)\n",
    "print(\"sigma\", sigma.shape)"
   ]
  },
  {
   "cell_type": "code",
   "execution_count": 67,
   "metadata": {},
   "outputs": [
    {
     "name": "stdout",
     "output_type": "stream",
     "text": [
      "[2728 4323 2949]\n",
      "[4199 3948 1853]\n",
      "[4855 3679 1466]\n",
      "[5230 3435 1335]\n",
      "[5526 3311 1163]\n"
     ]
    }
   ],
   "source": [
    "data = list()\n",
    "\n",
    "for t in range(num_timesteps):\n",
    "    \n",
    "    # Generate state\n",
    "    if t == 0:\n",
    "        S_t = multivariate_normal(mu0, sigma, size=size)\n",
    "    else:\n",
    "        S_t = np.vstack([multivariate_normal(S_tminus1[i] + A_tminus1[i]@gamma, sigma, size=1) for i in range(size)])\n",
    "    S_tdash = np.concatenate([np.ones((size, 1)), S_t], 1)\n",
    "\n",
    "    # Generate action\n",
    "    pvals = softmax(S_tdash @ phi.T, axis=1)\n",
    "    A_t = np.vstack([multinomial(n=1, pvals=pvals[i], size=1) for i in range(size)])\n",
    "    \n",
    "    # Generate reward\n",
    "    mean_R_tplus1 = np.vstack([(S_tdash@beta[t, a]) * (A_t[:, a]) for a in range(num_actions)]).sum(axis=0)\n",
    "    R_tplus1 = normal(loc=mean_R_tplus1, scale=1)\n",
    "    \n",
    "    # Convert to dataframe\n",
    "    data.append(\n",
    "        pd.concat([\n",
    "            pd.DataFrame(S_t, columns=[f'S{d}' for d in range(1, state_dim + 1)]),\n",
    "            pd.DataFrame(np.argmax(A_t, axis=1), columns=['A']).astype(object),\n",
    "            pd.DataFrame(R_tplus1, columns=['R'])\n",
    "        ], axis=1)\n",
    "    )\n",
    "\n",
    "    # Transition\n",
    "    A_tminus1 = A_t\n",
    "    S_tminus1 = S_t\n",
    "\n",
    "    print(A_t.sum(axis=0))\n",
    "\n",
    "# Ensure one action of each type!\n",
    "# TO DO #"
   ]
  },
  {
   "cell_type": "markdown",
   "metadata": {},
   "source": [
    "# Q-learning"
   ]
  },
  {
   "cell_type": "code",
   "execution_count": null,
   "metadata": {},
   "outputs": [],
   "source": []
  },
  {
   "cell_type": "code",
   "execution_count": 68,
   "metadata": {},
   "outputs": [
    {
     "name": "stdout",
     "output_type": "stream",
     "text": [
      "A*(S1+S2+S3+S4+S5)\n"
     ]
    }
   ],
   "source": [
    "Q_function_model = f\"A*({'+'.join(f'S{d}' for d in range(1, state_dim+1))})\"\n",
    "print(Q_function_model)"
   ]
  },
  {
   "cell_type": "code",
   "execution_count": 69,
   "metadata": {},
   "outputs": [],
   "source": [
    "models = list()\n",
    "\n",
    "for t in range(num_timesteps-1, -1, -1):\n",
    "\n",
    "    df = data[t]\n",
    "\n",
    "    # Target\n",
    "    if t == (num_timesteps-1):\n",
    "        df['y'] = df['R']\n",
    "    else:\n",
    "        df['y'] = df['R'] + max_value\n",
    "\n",
    "    # Fit model\n",
    "    model = smf.ols(formula='y ~ ' + Q_function_model, data=df).fit()\n",
    "    models.append(model)\n",
    "\n",
    "    # Find the predicted value of each action\n",
    "    df_copy = df.copy(deep=True)        \n",
    "    pred_value = []\n",
    "    for a in range(num_actions):\n",
    "        df_copy['A'] = a\n",
    "        pred_value.append(model.predict(df_copy))\n",
    "    pred_value = pd.concat(pred_value, axis=1)\n",
    "    pred_value.columns = columns=[f'A{d}' for d in range(num_actions)]\n",
    "\n",
    "    # Find the maximum predicted value\n",
    "    max_value = pred_value.max(axis=1)\n",
    "\n",
    "models = models[::-1]"
   ]
  },
  {
   "cell_type": "markdown",
   "metadata": {},
   "source": [
    "# Propensity score models"
   ]
  },
  {
   "cell_type": "code",
   "execution_count": 70,
   "metadata": {},
   "outputs": [
    {
     "name": "stdout",
     "output_type": "stream",
     "text": [
      "Optimization terminated successfully.\n",
      "         Current function value: 0.577084\n",
      "         Iterations: 8\n",
      "         Function evaluations: 9\n",
      "         Gradient evaluations: 16\n",
      "         Hessian evaluations: 8\n",
      "Accuracy 0: 0.7515\n",
      "Optimization terminated successfully.\n",
      "         Current function value: 0.311172\n",
      "         Iterations: 9\n",
      "         Function evaluations: 10\n",
      "         Gradient evaluations: 18\n",
      "         Hessian evaluations: 9\n",
      "Accuracy 1: 0.8717\n",
      "Optimization terminated successfully.\n",
      "         Current function value: 0.201014\n",
      "         Iterations: 11\n",
      "         Function evaluations: 12\n",
      "         Gradient evaluations: 22\n",
      "         Hessian evaluations: 11\n",
      "Accuracy 2: 0.9147\n",
      "Optimization terminated successfully.\n",
      "         Current function value: 0.149221\n",
      "         Iterations: 11\n",
      "         Function evaluations: 12\n",
      "         Gradient evaluations: 22\n",
      "         Hessian evaluations: 11\n",
      "Accuracy 3: 0.9384\n",
      "Optimization terminated successfully.\n",
      "         Current function value: 0.116937\n",
      "         Iterations: 12\n",
      "         Function evaluations: 13\n",
      "         Gradient evaluations: 24\n",
      "         Hessian evaluations: 12\n",
      "Accuracy 4: 0.9503\n"
     ]
    }
   ],
   "source": [
    "PS_model = f\"{'+'.join(f'S{d}' for d in range(1, state_dim+1))}\"\n",
    "\n",
    "ps_models = []\n",
    "for t in range(0, num_timesteps, 1):\n",
    "    ps_model = smf.mnlogit('A ~ ' + PS_model, data=data[t].astype({'A': int}))\n",
    "    ps_model = ps_model.fit(method='ncg')\n",
    "    ps_models.append(ps_model)\n",
    "\n",
    "    print(f\"Accuracy {t}: {(ps_model.predict(data[t]).values.argmax(axis=1) == data[t]['A']).mean()}\")"
   ]
  },
  {
   "cell_type": "markdown",
   "metadata": {},
   "source": [
    "# Optimal value function estimation"
   ]
  },
  {
   "cell_type": "code",
   "execution_count": 71,
   "metadata": {},
   "outputs": [],
   "source": [
    "def get_dummies(x, num_levels):\n",
    "    dummy_data = np.zeros((x.shape[0], num_levels))\n",
    "    for i, xi in enumerate(x):\n",
    "        dummy_data[i, xi] = 1\n",
    "    return dummy_data"
   ]
  },
  {
   "cell_type": "code",
   "execution_count": 72,
   "metadata": {},
   "outputs": [],
   "source": [
    "optimal_policy_data = list()\n",
    "\n",
    "for t in range(num_timesteps):\n",
    "    \n",
    "    # Generate state\n",
    "    if t == 0:\n",
    "        S_t = multivariate_normal(mu0, sigma, size=size)\n",
    "    else:\n",
    "        S_t = np.vstack([multivariate_normal(S_tminus1[i] + A_tminus1[i]@gamma, sigma, size=1) for i in range(size)])\n",
    "    S_tdash = np.concatenate([np.ones((size, 1)), S_t], 1)\n",
    "    \n",
    "    # Choose action\n",
    "    # Find the predicted value of each action\n",
    "    df_copy = pd.DataFrame(S_t, columns=[f'S{d}' for d in range(1, state_dim + 1)])\n",
    "    pred_value = []\n",
    "    for a in range(num_actions):\n",
    "        df_copy['A'] = a\n",
    "        pred_value.append(models[t].predict(df_copy))\n",
    "    pred_value = pd.concat(pred_value, axis=1)\n",
    "    pred_value.columns = columns=[f'A{d}' for d in range(num_actions)]\n",
    "    # Find the best action\n",
    "    A_t = get_dummies(pred_value.values.argmax(axis=1), num_actions)\n",
    "    \n",
    "    # Generate reward\n",
    "    mean_R_tplus1 = np.vstack([(S_tdash@beta[t, a]) * (A_t[:, a]) for a in range(num_actions)]).sum(axis=0)\n",
    "    R_tplus1 = normal(loc=mean_R_tplus1, scale=1)\n",
    "    \n",
    "    # Convert to dataframe\n",
    "    optimal_policy_data.append(\n",
    "        pd.concat([\n",
    "            pd.DataFrame(S_t, columns=[f'S{d}' for d in range(1, state_dim + 1)]),\n",
    "            pd.DataFrame(np.argmax(A_t, axis=1), columns=['A']).astype(object),\n",
    "            pd.DataFrame(R_tplus1, columns=['R'])\n",
    "        ], axis=1)\n",
    "    )\n",
    "\n",
    "    # Transition\n",
    "    A_tminus1 = A_t\n",
    "    S_tminus1 = S_t\n",
    "\n",
    "# Ensure one action of each type!\n",
    "# TO DO #"
   ]
  },
  {
   "cell_type": "code",
   "execution_count": 73,
   "metadata": {},
   "outputs": [
    {
     "name": "stdout",
     "output_type": "stream",
     "text": [
      "21.05172275943445\n"
     ]
    }
   ],
   "source": [
    "reward = np.zeros(size)\n",
    "for t in range(num_timesteps):\n",
    "    reward += optimal_policy_data[t]['R']\n",
    "print(reward.mean())"
   ]
  },
  {
   "cell_type": "code",
   "execution_count": 74,
   "metadata": {},
   "outputs": [
    {
     "name": "stdout",
     "output_type": "stream",
     "text": [
      "-8.14064575080257\n"
     ]
    }
   ],
   "source": [
    "reward = np.zeros(size)\n",
    "for t in range(num_timesteps):\n",
    "    reward += data[t]['R']\n",
    "print(reward.mean())"
   ]
  },
  {
   "cell_type": "code",
   "execution_count": 23,
   "metadata": {},
   "outputs": [
    {
     "data": {
      "text/plain": [
       "0       430.375069\n",
       "1       301.294152\n",
       "2       328.358626\n",
       "3       514.523905\n",
       "4       225.653631\n",
       "           ...    \n",
       "9995    299.465630\n",
       "9996    334.353243\n",
       "9997    389.647749\n",
       "9998    510.292456\n",
       "9999    309.699211\n",
       "Length: 10000, dtype: float64"
      ]
     },
     "execution_count": 23,
     "metadata": {},
     "output_type": "execute_result"
    }
   ],
   "source": [
    "model.predict(df_copy)"
   ]
  },
  {
   "cell_type": "code",
   "execution_count": null,
   "metadata": {},
   "outputs": [],
   "source": []
  }
 ],
 "metadata": {
  "kernelspec": {
   "name": "python381jvsc74a57bd0ad6e31faef7512eda54468d88b6de77d330298d849602fe0569d19ed28512268",
   "display_name": "Python 3.8.1 64-bit ('bst263': conda)"
  },
  "language_info": {
   "codemirror_mode": {
    "name": "ipython",
    "version": 3
   },
   "file_extension": ".py",
   "mimetype": "text/x-python",
   "name": "python",
   "nbconvert_exporter": "python",
   "pygments_lexer": "ipython3",
   "version": "3.8.1"
  }
 },
 "nbformat": 4,
 "nbformat_minor": 2
}